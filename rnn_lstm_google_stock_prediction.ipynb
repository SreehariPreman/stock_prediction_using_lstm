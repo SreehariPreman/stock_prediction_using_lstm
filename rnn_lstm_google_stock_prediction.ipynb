{
  "cells": [
    {
      "cell_type": "code",
      "execution_count": 1,
      "metadata": {
        "id": "W_lajKyeVSo-"
      },
      "outputs": [],
      "source": [
        "import pandas as pd\n",
        "import numpy as np\n",
        "import tensorflow as tf\n",
        "from keras.models import Sequential\n",
        "from keras.layers import LSTM,Dense\n",
        "from keras.preprocessing.sequence import TimeseriesGenerator"
      ]
    },
    {
      "cell_type": "code",
      "execution_count": 2,
      "metadata": {
        "id": "A3U4F7q7W8nl"
      },
      "outputs": [],
      "source": [
        "file = 'data/GOOG.csv'\n",
        "df = pd.read_csv(file)"
      ]
    },
    {
      "cell_type": "code",
      "execution_count": 3,
      "metadata": {
        "colab": {
          "base_uri": "https://localhost:8080/"
        },
        "id": "JGKTir7GXkXZ",
        "outputId": "342f3edb-8bd7-4be8-a2df-42de3cb1f9f9"
      },
      "outputs": [
        {
          "name": "stdout",
          "output_type": "stream",
          "text": [
            "<class 'pandas.core.frame.DataFrame'>\n",
            "RangeIndex: 250 entries, 0 to 249\n",
            "Data columns (total 7 columns):\n",
            " #   Column     Non-Null Count  Dtype  \n",
            "---  ------     --------------  -----  \n",
            " 0   Date       250 non-null    object \n",
            " 1   Open       250 non-null    float64\n",
            " 2   High       250 non-null    float64\n",
            " 3   Low        250 non-null    float64\n",
            " 4   Close      250 non-null    float64\n",
            " 5   Adj Close  250 non-null    float64\n",
            " 6   Volume     250 non-null    int64  \n",
            "dtypes: float64(5), int64(1), object(1)\n",
            "memory usage: 13.8+ KB\n",
            "None\n"
          ]
        }
      ],
      "source": [
        "print(df.info())"
      ]
    },
    {
      "cell_type": "code",
      "execution_count": 4,
      "metadata": {
        "colab": {
          "base_uri": "https://localhost:8080/",
          "height": 363
        },
        "id": "rCoinoxyXmhj",
        "outputId": "7e6fa1e0-337e-4961-c445-740e8f3762b7"
      },
      "outputs": [
        {
          "data": {
            "text/html": [
              "\n",
              "  <div id=\"df-2140e595-2af7-4e79-9e0e-c7d3355165e8\" class=\"colab-df-container\">\n",
              "    <div>\n",
              "<style scoped>\n",
              "    .dataframe tbody tr th:only-of-type {\n",
              "        vertical-align: middle;\n",
              "    }\n",
              "\n",
              "    .dataframe tbody tr th {\n",
              "        vertical-align: top;\n",
              "    }\n",
              "\n",
              "    .dataframe thead th {\n",
              "        text-align: right;\n",
              "    }\n",
              "</style>\n",
              "<table border=\"1\" class=\"dataframe\">\n",
              "  <thead>\n",
              "    <tr style=\"text-align: right;\">\n",
              "      <th></th>\n",
              "      <th>Date</th>\n",
              "      <th>Open</th>\n",
              "      <th>High</th>\n",
              "      <th>Low</th>\n",
              "      <th>Close</th>\n",
              "      <th>Adj Close</th>\n",
              "      <th>Volume</th>\n",
              "    </tr>\n",
              "  </thead>\n",
              "  <tbody>\n",
              "    <tr>\n",
              "      <th>0</th>\n",
              "      <td>2022-08-08</td>\n",
              "      <td>119.120003</td>\n",
              "      <td>120.860001</td>\n",
              "      <td>117.830002</td>\n",
              "      <td>118.139999</td>\n",
              "      <td>118.139999</td>\n",
              "      <td>17061100</td>\n",
              "    </tr>\n",
              "    <tr>\n",
              "      <th>1</th>\n",
              "      <td>2022-08-09</td>\n",
              "      <td>117.989998</td>\n",
              "      <td>118.199997</td>\n",
              "      <td>116.559998</td>\n",
              "      <td>117.500000</td>\n",
              "      <td>117.500000</td>\n",
              "      <td>15424300</td>\n",
              "    </tr>\n",
              "    <tr>\n",
              "      <th>2</th>\n",
              "      <td>2022-08-10</td>\n",
              "      <td>119.589996</td>\n",
              "      <td>121.779999</td>\n",
              "      <td>119.360001</td>\n",
              "      <td>120.650002</td>\n",
              "      <td>120.650002</td>\n",
              "      <td>20497000</td>\n",
              "    </tr>\n",
              "    <tr>\n",
              "      <th>3</th>\n",
              "      <td>2022-08-11</td>\n",
              "      <td>122.080002</td>\n",
              "      <td>122.339996</td>\n",
              "      <td>119.550003</td>\n",
              "      <td>119.820000</td>\n",
              "      <td>119.820000</td>\n",
              "      <td>16671600</td>\n",
              "    </tr>\n",
              "    <tr>\n",
              "      <th>4</th>\n",
              "      <td>2022-08-12</td>\n",
              "      <td>121.160004</td>\n",
              "      <td>122.650002</td>\n",
              "      <td>120.400002</td>\n",
              "      <td>122.650002</td>\n",
              "      <td>122.650002</td>\n",
              "      <td>16121100</td>\n",
              "    </tr>\n",
              "    <tr>\n",
              "      <th>5</th>\n",
              "      <td>2022-08-15</td>\n",
              "      <td>122.209999</td>\n",
              "      <td>123.260002</td>\n",
              "      <td>121.570000</td>\n",
              "      <td>122.879997</td>\n",
              "      <td>122.879997</td>\n",
              "      <td>15525000</td>\n",
              "    </tr>\n",
              "    <tr>\n",
              "      <th>6</th>\n",
              "      <td>2022-08-16</td>\n",
              "      <td>122.320000</td>\n",
              "      <td>123.227997</td>\n",
              "      <td>121.535004</td>\n",
              "      <td>122.510002</td>\n",
              "      <td>122.510002</td>\n",
              "      <td>15626200</td>\n",
              "    </tr>\n",
              "    <tr>\n",
              "      <th>7</th>\n",
              "      <td>2022-08-17</td>\n",
              "      <td>120.930000</td>\n",
              "      <td>122.150002</td>\n",
              "      <td>120.199997</td>\n",
              "      <td>120.320000</td>\n",
              "      <td>120.320000</td>\n",
              "      <td>17589200</td>\n",
              "    </tr>\n",
              "    <tr>\n",
              "      <th>8</th>\n",
              "      <td>2022-08-18</td>\n",
              "      <td>120.230003</td>\n",
              "      <td>121.690002</td>\n",
              "      <td>119.550003</td>\n",
              "      <td>120.860001</td>\n",
              "      <td>120.860001</td>\n",
              "      <td>15652000</td>\n",
              "    </tr>\n",
              "    <tr>\n",
              "      <th>9</th>\n",
              "      <td>2022-08-19</td>\n",
              "      <td>119.870003</td>\n",
              "      <td>120.000000</td>\n",
              "      <td>117.669998</td>\n",
              "      <td>118.120003</td>\n",
              "      <td>118.120003</td>\n",
              "      <td>20187000</td>\n",
              "    </tr>\n",
              "  </tbody>\n",
              "</table>\n",
              "</div>\n",
              "    <div class=\"colab-df-buttons\">\n",
              "\n",
              "  <div class=\"colab-df-container\">\n",
              "    <button class=\"colab-df-convert\" onclick=\"convertToInteractive('df-2140e595-2af7-4e79-9e0e-c7d3355165e8')\"\n",
              "            title=\"Convert this dataframe to an interactive table.\"\n",
              "            style=\"display:none;\">\n",
              "\n",
              "  <svg xmlns=\"http://www.w3.org/2000/svg\" height=\"24px\" viewBox=\"0 -960 960 960\">\n",
              "    <path d=\"M120-120v-720h720v720H120Zm60-500h600v-160H180v160Zm220 220h160v-160H400v160Zm0 220h160v-160H400v160ZM180-400h160v-160H180v160Zm440 0h160v-160H620v160ZM180-180h160v-160H180v160Zm440 0h160v-160H620v160Z\"/>\n",
              "  </svg>\n",
              "    </button>\n",
              "\n",
              "  <style>\n",
              "    .colab-df-container {\n",
              "      display:flex;\n",
              "      gap: 12px;\n",
              "    }\n",
              "\n",
              "    .colab-df-convert {\n",
              "      background-color: #E8F0FE;\n",
              "      border: none;\n",
              "      border-radius: 50%;\n",
              "      cursor: pointer;\n",
              "      display: none;\n",
              "      fill: #1967D2;\n",
              "      height: 32px;\n",
              "      padding: 0 0 0 0;\n",
              "      width: 32px;\n",
              "    }\n",
              "\n",
              "    .colab-df-convert:hover {\n",
              "      background-color: #E2EBFA;\n",
              "      box-shadow: 0px 1px 2px rgba(60, 64, 67, 0.3), 0px 1px 3px 1px rgba(60, 64, 67, 0.15);\n",
              "      fill: #174EA6;\n",
              "    }\n",
              "\n",
              "    .colab-df-buttons div {\n",
              "      margin-bottom: 4px;\n",
              "    }\n",
              "\n",
              "    [theme=dark] .colab-df-convert {\n",
              "      background-color: #3B4455;\n",
              "      fill: #D2E3FC;\n",
              "    }\n",
              "\n",
              "    [theme=dark] .colab-df-convert:hover {\n",
              "      background-color: #434B5C;\n",
              "      box-shadow: 0px 1px 3px 1px rgba(0, 0, 0, 0.15);\n",
              "      filter: drop-shadow(0px 1px 2px rgba(0, 0, 0, 0.3));\n",
              "      fill: #FFFFFF;\n",
              "    }\n",
              "  </style>\n",
              "\n",
              "    <script>\n",
              "      const buttonEl =\n",
              "        document.querySelector('#df-2140e595-2af7-4e79-9e0e-c7d3355165e8 button.colab-df-convert');\n",
              "      buttonEl.style.display =\n",
              "        google.colab.kernel.accessAllowed ? 'block' : 'none';\n",
              "\n",
              "      async function convertToInteractive(key) {\n",
              "        const element = document.querySelector('#df-2140e595-2af7-4e79-9e0e-c7d3355165e8');\n",
              "        const dataTable =\n",
              "          await google.colab.kernel.invokeFunction('convertToInteractive',\n",
              "                                                    [key], {});\n",
              "        if (!dataTable) return;\n",
              "\n",
              "        const docLinkHtml = 'Like what you see? Visit the ' +\n",
              "          '<a target=\"_blank\" href=https://colab.research.google.com/notebooks/data_table.ipynb>data table notebook</a>'\n",
              "          + ' to learn more about interactive tables.';\n",
              "        element.innerHTML = '';\n",
              "        dataTable['output_type'] = 'display_data';\n",
              "        await google.colab.output.renderOutput(dataTable, element);\n",
              "        const docLink = document.createElement('div');\n",
              "        docLink.innerHTML = docLinkHtml;\n",
              "        element.appendChild(docLink);\n",
              "      }\n",
              "    </script>\n",
              "  </div>\n",
              "\n",
              "\n",
              "<div id=\"df-722f99a4-7321-46d0-9409-d0ef49e49468\">\n",
              "  <button class=\"colab-df-quickchart\" onclick=\"quickchart('df-722f99a4-7321-46d0-9409-d0ef49e49468')\"\n",
              "            title=\"Suggest charts\"\n",
              "            style=\"display:none;\">\n",
              "\n",
              "<svg xmlns=\"http://www.w3.org/2000/svg\" height=\"24px\"viewBox=\"0 0 24 24\"\n",
              "     width=\"24px\">\n",
              "    <g>\n",
              "        <path d=\"M19 3H5c-1.1 0-2 .9-2 2v14c0 1.1.9 2 2 2h14c1.1 0 2-.9 2-2V5c0-1.1-.9-2-2-2zM9 17H7v-7h2v7zm4 0h-2V7h2v10zm4 0h-2v-4h2v4z\"/>\n",
              "    </g>\n",
              "</svg>\n",
              "  </button>\n",
              "\n",
              "<style>\n",
              "  .colab-df-quickchart {\n",
              "      --bg-color: #E8F0FE;\n",
              "      --fill-color: #1967D2;\n",
              "      --hover-bg-color: #E2EBFA;\n",
              "      --hover-fill-color: #174EA6;\n",
              "      --disabled-fill-color: #AAA;\n",
              "      --disabled-bg-color: #DDD;\n",
              "  }\n",
              "\n",
              "  [theme=dark] .colab-df-quickchart {\n",
              "      --bg-color: #3B4455;\n",
              "      --fill-color: #D2E3FC;\n",
              "      --hover-bg-color: #434B5C;\n",
              "      --hover-fill-color: #FFFFFF;\n",
              "      --disabled-bg-color: #3B4455;\n",
              "      --disabled-fill-color: #666;\n",
              "  }\n",
              "\n",
              "  .colab-df-quickchart {\n",
              "    background-color: var(--bg-color);\n",
              "    border: none;\n",
              "    border-radius: 50%;\n",
              "    cursor: pointer;\n",
              "    display: none;\n",
              "    fill: var(--fill-color);\n",
              "    height: 32px;\n",
              "    padding: 0;\n",
              "    width: 32px;\n",
              "  }\n",
              "\n",
              "  .colab-df-quickchart:hover {\n",
              "    background-color: var(--hover-bg-color);\n",
              "    box-shadow: 0 1px 2px rgba(60, 64, 67, 0.3), 0 1px 3px 1px rgba(60, 64, 67, 0.15);\n",
              "    fill: var(--button-hover-fill-color);\n",
              "  }\n",
              "\n",
              "  .colab-df-quickchart-complete:disabled,\n",
              "  .colab-df-quickchart-complete:disabled:hover {\n",
              "    background-color: var(--disabled-bg-color);\n",
              "    fill: var(--disabled-fill-color);\n",
              "    box-shadow: none;\n",
              "  }\n",
              "\n",
              "  .colab-df-spinner {\n",
              "    border: 2px solid var(--fill-color);\n",
              "    border-color: transparent;\n",
              "    border-bottom-color: var(--fill-color);\n",
              "    animation:\n",
              "      spin 1s steps(1) infinite;\n",
              "  }\n",
              "\n",
              "  @keyframes spin {\n",
              "    0% {\n",
              "      border-color: transparent;\n",
              "      border-bottom-color: var(--fill-color);\n",
              "      border-left-color: var(--fill-color);\n",
              "    }\n",
              "    20% {\n",
              "      border-color: transparent;\n",
              "      border-left-color: var(--fill-color);\n",
              "      border-top-color: var(--fill-color);\n",
              "    }\n",
              "    30% {\n",
              "      border-color: transparent;\n",
              "      border-left-color: var(--fill-color);\n",
              "      border-top-color: var(--fill-color);\n",
              "      border-right-color: var(--fill-color);\n",
              "    }\n",
              "    40% {\n",
              "      border-color: transparent;\n",
              "      border-right-color: var(--fill-color);\n",
              "      border-top-color: var(--fill-color);\n",
              "    }\n",
              "    60% {\n",
              "      border-color: transparent;\n",
              "      border-right-color: var(--fill-color);\n",
              "    }\n",
              "    80% {\n",
              "      border-color: transparent;\n",
              "      border-right-color: var(--fill-color);\n",
              "      border-bottom-color: var(--fill-color);\n",
              "    }\n",
              "    90% {\n",
              "      border-color: transparent;\n",
              "      border-bottom-color: var(--fill-color);\n",
              "    }\n",
              "  }\n",
              "</style>\n",
              "\n",
              "  <script>\n",
              "    async function quickchart(key) {\n",
              "      const quickchartButtonEl =\n",
              "        document.querySelector('#' + key + ' button');\n",
              "      quickchartButtonEl.disabled = true;  // To prevent multiple clicks.\n",
              "      quickchartButtonEl.classList.add('colab-df-spinner');\n",
              "      try {\n",
              "        const charts = await google.colab.kernel.invokeFunction(\n",
              "            'suggestCharts', [key], {});\n",
              "      } catch (error) {\n",
              "        console.error('Error during call to suggestCharts:', error);\n",
              "      }\n",
              "      quickchartButtonEl.classList.remove('colab-df-spinner');\n",
              "      quickchartButtonEl.classList.add('colab-df-quickchart-complete');\n",
              "    }\n",
              "    (() => {\n",
              "      let quickchartButtonEl =\n",
              "        document.querySelector('#df-722f99a4-7321-46d0-9409-d0ef49e49468 button');\n",
              "      quickchartButtonEl.style.display =\n",
              "        google.colab.kernel.accessAllowed ? 'block' : 'none';\n",
              "    })();\n",
              "  </script>\n",
              "</div>\n",
              "    </div>\n",
              "  </div>\n"
            ],
            "text/plain": [
              "         Date        Open        High         Low       Close   Adj Close  \\\n",
              "0  2022-08-08  119.120003  120.860001  117.830002  118.139999  118.139999   \n",
              "1  2022-08-09  117.989998  118.199997  116.559998  117.500000  117.500000   \n",
              "2  2022-08-10  119.589996  121.779999  119.360001  120.650002  120.650002   \n",
              "3  2022-08-11  122.080002  122.339996  119.550003  119.820000  119.820000   \n",
              "4  2022-08-12  121.160004  122.650002  120.400002  122.650002  122.650002   \n",
              "5  2022-08-15  122.209999  123.260002  121.570000  122.879997  122.879997   \n",
              "6  2022-08-16  122.320000  123.227997  121.535004  122.510002  122.510002   \n",
              "7  2022-08-17  120.930000  122.150002  120.199997  120.320000  120.320000   \n",
              "8  2022-08-18  120.230003  121.690002  119.550003  120.860001  120.860001   \n",
              "9  2022-08-19  119.870003  120.000000  117.669998  118.120003  118.120003   \n",
              "\n",
              "     Volume  \n",
              "0  17061100  \n",
              "1  15424300  \n",
              "2  20497000  \n",
              "3  16671600  \n",
              "4  16121100  \n",
              "5  15525000  \n",
              "6  15626200  \n",
              "7  17589200  \n",
              "8  15652000  \n",
              "9  20187000  "
            ]
          },
          "execution_count": 4,
          "metadata": {},
          "output_type": "execute_result"
        }
      ],
      "source": [
        "df.head(10)"
      ]
    },
    {
      "cell_type": "code",
      "execution_count": 5,
      "metadata": {
        "id": "5-JP1rw9XooA"
      },
      "outputs": [],
      "source": [
        "df['Date'] = pd.to_datetime(df['Date'])\n",
        "df.set_index(df['Date'],inplace=True)\n",
        "df.drop(columns = ['Open','High','Low','Volume'],inplace = True)"
      ]
    },
    {
      "cell_type": "code",
      "execution_count": 6,
      "metadata": {
        "id": "7lSPQXvXY0I5"
      },
      "outputs": [],
      "source": [
        "import plotly.graph_objects as go"
      ]
    },
    {
      "cell_type": "code",
      "execution_count": 7,
      "metadata": {
        "colab": {
          "base_uri": "https://localhost:8080/",
          "height": 542
        },
        "id": "tUY4klVGZNeX",
        "outputId": "d4be2f61-b071-46e4-f55e-163090acce85"
      },
      "outputs": [
        {
          "data": {
            "text/html": [
              "<html>\n",
              "<head><meta charset=\"utf-8\" /></head>\n",
              "<body>\n",
              "    <div>            <script src=\"https://cdnjs.cloudflare.com/ajax/libs/mathjax/2.7.5/MathJax.js?config=TeX-AMS-MML_SVG\"></script><script type=\"text/javascript\">if (window.MathJax && window.MathJax.Hub && window.MathJax.Hub.Config) {window.MathJax.Hub.Config({SVG: {font: \"STIX-Web\"}});}</script>                <script type=\"text/javascript\">window.PlotlyConfig = {MathJaxConfig: 'local'};</script>\n",
              "        <script charset=\"utf-8\" src=\"https://cdn.plot.ly/plotly-2.24.1.min.js\"></script>                <div id=\"13c7795e-1fb7-4168-89a4-061edd328eaa\" class=\"plotly-graph-div\" style=\"height:525px; width:100%;\"></div>            <script type=\"text/javascript\">                                    window.PLOTLYENV=window.PLOTLYENV || {};                                    if (document.getElementById(\"13c7795e-1fb7-4168-89a4-061edd328eaa\")) {                    Plotly.newPlot(                        \"13c7795e-1fb7-4168-89a4-061edd328eaa\",                        [{\"mode\":\"lines\",\"name\":\"Data\",\"x\":[\"2022-08-08T00:00:00\",\"2022-08-09T00:00:00\",\"2022-08-10T00:00:00\",\"2022-08-11T00:00:00\",\"2022-08-12T00:00:00\",\"2022-08-15T00:00:00\",\"2022-08-16T00:00:00\",\"2022-08-17T00:00:00\",\"2022-08-18T00:00:00\",\"2022-08-19T00:00:00\",\"2022-08-22T00:00:00\",\"2022-08-23T00:00:00\",\"2022-08-24T00:00:00\",\"2022-08-25T00:00:00\",\"2022-08-26T00:00:00\",\"2022-08-29T00:00:00\",\"2022-08-30T00:00:00\",\"2022-08-31T00:00:00\",\"2022-09-01T00:00:00\",\"2022-09-02T00:00:00\",\"2022-09-06T00:00:00\",\"2022-09-07T00:00:00\",\"2022-09-08T00:00:00\",\"2022-09-09T00:00:00\",\"2022-09-12T00:00:00\",\"2022-09-13T00:00:00\",\"2022-09-14T00:00:00\",\"2022-09-15T00:00:00\",\"2022-09-16T00:00:00\",\"2022-09-19T00:00:00\",\"2022-09-20T00:00:00\",\"2022-09-21T00:00:00\",\"2022-09-22T00:00:00\",\"2022-09-23T00:00:00\",\"2022-09-26T00:00:00\",\"2022-09-27T00:00:00\",\"2022-09-28T00:00:00\",\"2022-09-29T00:00:00\",\"2022-09-30T00:00:00\",\"2022-10-03T00:00:00\",\"2022-10-04T00:00:00\",\"2022-10-05T00:00:00\",\"2022-10-06T00:00:00\",\"2022-10-07T00:00:00\",\"2022-10-10T00:00:00\",\"2022-10-11T00:00:00\",\"2022-10-12T00:00:00\",\"2022-10-13T00:00:00\",\"2022-10-14T00:00:00\",\"2022-10-17T00:00:00\",\"2022-10-18T00:00:00\",\"2022-10-19T00:00:00\",\"2022-10-20T00:00:00\",\"2022-10-21T00:00:00\",\"2022-10-24T00:00:00\",\"2022-10-25T00:00:00\",\"2022-10-26T00:00:00\",\"2022-10-27T00:00:00\",\"2022-10-28T00:00:00\",\"2022-10-31T00:00:00\",\"2022-11-01T00:00:00\",\"2022-11-02T00:00:00\",\"2022-11-03T00:00:00\",\"2022-11-04T00:00:00\",\"2022-11-07T00:00:00\",\"2022-11-08T00:00:00\",\"2022-11-09T00:00:00\",\"2022-11-10T00:00:00\",\"2022-11-11T00:00:00\",\"2022-11-14T00:00:00\",\"2022-11-15T00:00:00\",\"2022-11-16T00:00:00\",\"2022-11-17T00:00:00\",\"2022-11-18T00:00:00\",\"2022-11-21T00:00:00\",\"2022-11-22T00:00:00\",\"2022-11-23T00:00:00\",\"2022-11-25T00:00:00\",\"2022-11-28T00:00:00\",\"2022-11-29T00:00:00\",\"2022-11-30T00:00:00\",\"2022-12-01T00:00:00\",\"2022-12-02T00:00:00\",\"2022-12-05T00:00:00\",\"2022-12-06T00:00:00\",\"2022-12-07T00:00:00\",\"2022-12-08T00:00:00\",\"2022-12-09T00:00:00\",\"2022-12-12T00:00:00\",\"2022-12-13T00:00:00\",\"2022-12-14T00:00:00\",\"2022-12-15T00:00:00\",\"2022-12-16T00:00:00\",\"2022-12-19T00:00:00\",\"2022-12-20T00:00:00\",\"2022-12-21T00:00:00\",\"2022-12-22T00:00:00\",\"2022-12-23T00:00:00\",\"2022-12-27T00:00:00\",\"2022-12-28T00:00:00\",\"2022-12-29T00:00:00\",\"2022-12-30T00:00:00\",\"2023-01-03T00:00:00\",\"2023-01-04T00:00:00\",\"2023-01-05T00:00:00\",\"2023-01-06T00:00:00\",\"2023-01-09T00:00:00\",\"2023-01-10T00:00:00\",\"2023-01-11T00:00:00\",\"2023-01-12T00:00:00\",\"2023-01-13T00:00:00\",\"2023-01-17T00:00:00\",\"2023-01-18T00:00:00\",\"2023-01-19T00:00:00\",\"2023-01-20T00:00:00\",\"2023-01-23T00:00:00\",\"2023-01-24T00:00:00\",\"2023-01-25T00:00:00\",\"2023-01-26T00:00:00\",\"2023-01-27T00:00:00\",\"2023-01-30T00:00:00\",\"2023-01-31T00:00:00\",\"2023-02-01T00:00:00\",\"2023-02-02T00:00:00\",\"2023-02-03T00:00:00\",\"2023-02-06T00:00:00\",\"2023-02-07T00:00:00\",\"2023-02-08T00:00:00\",\"2023-02-09T00:00:00\",\"2023-02-10T00:00:00\",\"2023-02-13T00:00:00\",\"2023-02-14T00:00:00\",\"2023-02-15T00:00:00\",\"2023-02-16T00:00:00\",\"2023-02-17T00:00:00\",\"2023-02-21T00:00:00\",\"2023-02-22T00:00:00\",\"2023-02-23T00:00:00\",\"2023-02-24T00:00:00\",\"2023-02-27T00:00:00\",\"2023-02-28T00:00:00\",\"2023-03-01T00:00:00\",\"2023-03-02T00:00:00\",\"2023-03-03T00:00:00\",\"2023-03-06T00:00:00\",\"2023-03-07T00:00:00\",\"2023-03-08T00:00:00\",\"2023-03-09T00:00:00\",\"2023-03-10T00:00:00\",\"2023-03-13T00:00:00\",\"2023-03-14T00:00:00\",\"2023-03-15T00:00:00\",\"2023-03-16T00:00:00\",\"2023-03-17T00:00:00\",\"2023-03-20T00:00:00\",\"2023-03-21T00:00:00\",\"2023-03-22T00:00:00\",\"2023-03-23T00:00:00\",\"2023-03-24T00:00:00\",\"2023-03-27T00:00:00\",\"2023-03-28T00:00:00\",\"2023-03-29T00:00:00\",\"2023-03-30T00:00:00\",\"2023-03-31T00:00:00\",\"2023-04-03T00:00:00\",\"2023-04-04T00:00:00\",\"2023-04-05T00:00:00\",\"2023-04-06T00:00:00\",\"2023-04-10T00:00:00\",\"2023-04-11T00:00:00\",\"2023-04-12T00:00:00\",\"2023-04-13T00:00:00\",\"2023-04-14T00:00:00\",\"2023-04-17T00:00:00\",\"2023-04-18T00:00:00\",\"2023-04-19T00:00:00\",\"2023-04-20T00:00:00\",\"2023-04-21T00:00:00\",\"2023-04-24T00:00:00\",\"2023-04-25T00:00:00\",\"2023-04-26T00:00:00\",\"2023-04-27T00:00:00\",\"2023-04-28T00:00:00\",\"2023-05-01T00:00:00\",\"2023-05-02T00:00:00\",\"2023-05-03T00:00:00\",\"2023-05-04T00:00:00\",\"2023-05-05T00:00:00\",\"2023-05-08T00:00:00\",\"2023-05-09T00:00:00\",\"2023-05-10T00:00:00\",\"2023-05-11T00:00:00\",\"2023-05-12T00:00:00\",\"2023-05-15T00:00:00\",\"2023-05-16T00:00:00\",\"2023-05-17T00:00:00\",\"2023-05-18T00:00:00\",\"2023-05-19T00:00:00\",\"2023-05-22T00:00:00\",\"2023-05-23T00:00:00\",\"2023-05-24T00:00:00\",\"2023-05-25T00:00:00\",\"2023-05-26T00:00:00\",\"2023-05-30T00:00:00\",\"2023-05-31T00:00:00\",\"2023-06-01T00:00:00\",\"2023-06-02T00:00:00\",\"2023-06-05T00:00:00\",\"2023-06-06T00:00:00\",\"2023-06-07T00:00:00\",\"2023-06-08T00:00:00\",\"2023-06-09T00:00:00\",\"2023-06-12T00:00:00\",\"2023-06-13T00:00:00\",\"2023-06-14T00:00:00\",\"2023-06-15T00:00:00\",\"2023-06-16T00:00:00\",\"2023-06-20T00:00:00\",\"2023-06-21T00:00:00\",\"2023-06-22T00:00:00\",\"2023-06-23T00:00:00\",\"2023-06-26T00:00:00\",\"2023-06-27T00:00:00\",\"2023-06-28T00:00:00\",\"2023-06-29T00:00:00\",\"2023-06-30T00:00:00\",\"2023-07-03T00:00:00\",\"2023-07-05T00:00:00\",\"2023-07-06T00:00:00\",\"2023-07-07T00:00:00\",\"2023-07-10T00:00:00\",\"2023-07-11T00:00:00\",\"2023-07-12T00:00:00\",\"2023-07-13T00:00:00\",\"2023-07-14T00:00:00\",\"2023-07-17T00:00:00\",\"2023-07-18T00:00:00\",\"2023-07-19T00:00:00\",\"2023-07-20T00:00:00\",\"2023-07-21T00:00:00\",\"2023-07-24T00:00:00\",\"2023-07-25T00:00:00\",\"2023-07-26T00:00:00\",\"2023-07-27T00:00:00\",\"2023-07-28T00:00:00\",\"2023-07-31T00:00:00\",\"2023-08-01T00:00:00\",\"2023-08-02T00:00:00\",\"2023-08-03T00:00:00\",\"2023-08-04T00:00:00\"],\"y\":[118.139999,117.5,120.650002,119.82,122.650002,122.879997,122.510002,120.32,120.860001,118.120003,115.07,114.769997,114.699997,117.699997,111.300003,110.339996,109.910004,109.150002,110.550003,108.68,107.480003,110.480003,109.419998,111.779999,111.870003,105.309998,105.870003,103.900002,103.629997,103.849998,101.830002,100.010002,100.57,99.169998,98.809998,98.089996,100.739998,98.089996,96.150002,99.300003,102.410004,102.220001,102.239998,99.57,98.709999,98.050003,98.300003,99.709999,97.18,100.779999,101.389999,100.290001,100.529999,101.480003,102.970001,104.93,94.82,92.599998,96.580002,94.660004,90.5,87.07,83.489998,86.699997,88.650002,88.910004,87.400002,94.169998,96.730003,96.029999,98.720001,98.989998,98.5,97.800003,95.830002,97.330002,98.82,97.599998,96.25,95.440002,101.449997,101.279999,100.830002,99.870003,97.309998,95.150002,93.949997,93.07,93.559998,95.849998,95.309998,91.199997,90.860001,89.150002,89.629997,90.25,88.260002,89.809998,87.93,86.459999,88.949997,88.730003,89.699997,88.709999,86.769997,88.160004,88.800003,89.239998,92.260002,91.910004,92.800003,92.160004,91.779999,93.910004,99.279999,101.209999,99.209999,96.730003,99.160004,100.709999,97.949997,99.870003,101.43,108.800003,105.220001,103.470001,108.040001,100.0,95.459999,94.860001,95.0,94.949997,97.099998,95.779999,94.589996,92.050003,91.800003,91.07,89.349998,90.099998,90.300003,90.510002,92.309998,94.019997,95.580002,94.169998,94.650002,92.660004,91.010002,91.660004,94.25,96.550003,101.07,102.459999,101.93,105.839996,104.220001,106.260002,106.059998,103.059998,101.360001,101.900002,101.32,104.0,104.910004,105.120003,104.949997,108.900002,106.949997,106.120003,105.220001,108.190002,109.459999,106.419998,105.120003,105.019997,105.900002,105.910004,106.779999,104.610001,104.449997,108.370003,108.220001,107.709999,105.980003,106.120003,105.209999,106.214996,108.239998,107.940002,112.279999,116.900002,117.919998,116.959999,120.089996,121.480003,123.519997,123.25,125.870003,123.290001,121.639999,124.349998,125.43,124.639999,123.370003,124.370003,125.230003,126.629997,127.910004,122.940002,122.669998,122.870003,124.349998,124.43,124.379997,125.790001,124.059998,123.849998,121.260002,123.870003,123.019997,119.089996,119.010002,121.080002,120.010002,120.970001,120.559998,122.629997,120.93,120.139999,116.870003,117.709999,119.620003,124.830002,125.699997,125.059998,124.080002,122.779999,119.529999,120.309998,121.879997,122.790001,129.660004,129.869995,133.009995,133.110001,131.889999,128.639999,128.770004,128.539993],\"type\":\"scatter\"}],                        {\"title\":{\"text\":\"Google Stock\"},\"xaxis\":{\"title\":{\"text\":\"Date\"}},\"yaxis\":{\"title\":{\"text\":\"Close\"}},\"template\":{\"data\":{\"histogram2dcontour\":[{\"type\":\"histogram2dcontour\",\"colorbar\":{\"outlinewidth\":0,\"ticks\":\"\"},\"colorscale\":[[0.0,\"#0d0887\"],[0.1111111111111111,\"#46039f\"],[0.2222222222222222,\"#7201a8\"],[0.3333333333333333,\"#9c179e\"],[0.4444444444444444,\"#bd3786\"],[0.5555555555555556,\"#d8576b\"],[0.6666666666666666,\"#ed7953\"],[0.7777777777777778,\"#fb9f3a\"],[0.8888888888888888,\"#fdca26\"],[1.0,\"#f0f921\"]]}],\"choropleth\":[{\"type\":\"choropleth\",\"colorbar\":{\"outlinewidth\":0,\"ticks\":\"\"}}],\"histogram2d\":[{\"type\":\"histogram2d\",\"colorbar\":{\"outlinewidth\":0,\"ticks\":\"\"},\"colorscale\":[[0.0,\"#0d0887\"],[0.1111111111111111,\"#46039f\"],[0.2222222222222222,\"#7201a8\"],[0.3333333333333333,\"#9c179e\"],[0.4444444444444444,\"#bd3786\"],[0.5555555555555556,\"#d8576b\"],[0.6666666666666666,\"#ed7953\"],[0.7777777777777778,\"#fb9f3a\"],[0.8888888888888888,\"#fdca26\"],[1.0,\"#f0f921\"]]}],\"heatmap\":[{\"type\":\"heatmap\",\"colorbar\":{\"outlinewidth\":0,\"ticks\":\"\"},\"colorscale\":[[0.0,\"#0d0887\"],[0.1111111111111111,\"#46039f\"],[0.2222222222222222,\"#7201a8\"],[0.3333333333333333,\"#9c179e\"],[0.4444444444444444,\"#bd3786\"],[0.5555555555555556,\"#d8576b\"],[0.6666666666666666,\"#ed7953\"],[0.7777777777777778,\"#fb9f3a\"],[0.8888888888888888,\"#fdca26\"],[1.0,\"#f0f921\"]]}],\"heatmapgl\":[{\"type\":\"heatmapgl\",\"colorbar\":{\"outlinewidth\":0,\"ticks\":\"\"},\"colorscale\":[[0.0,\"#0d0887\"],[0.1111111111111111,\"#46039f\"],[0.2222222222222222,\"#7201a8\"],[0.3333333333333333,\"#9c179e\"],[0.4444444444444444,\"#bd3786\"],[0.5555555555555556,\"#d8576b\"],[0.6666666666666666,\"#ed7953\"],[0.7777777777777778,\"#fb9f3a\"],[0.8888888888888888,\"#fdca26\"],[1.0,\"#f0f921\"]]}],\"contourcarpet\":[{\"type\":\"contourcarpet\",\"colorbar\":{\"outlinewidth\":0,\"ticks\":\"\"}}],\"contour\":[{\"type\":\"contour\",\"colorbar\":{\"outlinewidth\":0,\"ticks\":\"\"},\"colorscale\":[[0.0,\"#0d0887\"],[0.1111111111111111,\"#46039f\"],[0.2222222222222222,\"#7201a8\"],[0.3333333333333333,\"#9c179e\"],[0.4444444444444444,\"#bd3786\"],[0.5555555555555556,\"#d8576b\"],[0.6666666666666666,\"#ed7953\"],[0.7777777777777778,\"#fb9f3a\"],[0.8888888888888888,\"#fdca26\"],[1.0,\"#f0f921\"]]}],\"surface\":[{\"type\":\"surface\",\"colorbar\":{\"outlinewidth\":0,\"ticks\":\"\"},\"colorscale\":[[0.0,\"#0d0887\"],[0.1111111111111111,\"#46039f\"],[0.2222222222222222,\"#7201a8\"],[0.3333333333333333,\"#9c179e\"],[0.4444444444444444,\"#bd3786\"],[0.5555555555555556,\"#d8576b\"],[0.6666666666666666,\"#ed7953\"],[0.7777777777777778,\"#fb9f3a\"],[0.8888888888888888,\"#fdca26\"],[1.0,\"#f0f921\"]]}],\"mesh3d\":[{\"type\":\"mesh3d\",\"colorbar\":{\"outlinewidth\":0,\"ticks\":\"\"}}],\"scatter\":[{\"fillpattern\":{\"fillmode\":\"overlay\",\"size\":10,\"solidity\":0.2},\"type\":\"scatter\"}],\"parcoords\":[{\"type\":\"parcoords\",\"line\":{\"colorbar\":{\"outlinewidth\":0,\"ticks\":\"\"}}}],\"scatterpolargl\":[{\"type\":\"scatterpolargl\",\"marker\":{\"colorbar\":{\"outlinewidth\":0,\"ticks\":\"\"}}}],\"bar\":[{\"error_x\":{\"color\":\"#2a3f5f\"},\"error_y\":{\"color\":\"#2a3f5f\"},\"marker\":{\"line\":{\"color\":\"#E5ECF6\",\"width\":0.5},\"pattern\":{\"fillmode\":\"overlay\",\"size\":10,\"solidity\":0.2}},\"type\":\"bar\"}],\"scattergeo\":[{\"type\":\"scattergeo\",\"marker\":{\"colorbar\":{\"outlinewidth\":0,\"ticks\":\"\"}}}],\"scatterpolar\":[{\"type\":\"scatterpolar\",\"marker\":{\"colorbar\":{\"outlinewidth\":0,\"ticks\":\"\"}}}],\"histogram\":[{\"marker\":{\"pattern\":{\"fillmode\":\"overlay\",\"size\":10,\"solidity\":0.2}},\"type\":\"histogram\"}],\"scattergl\":[{\"type\":\"scattergl\",\"marker\":{\"colorbar\":{\"outlinewidth\":0,\"ticks\":\"\"}}}],\"scatter3d\":[{\"type\":\"scatter3d\",\"line\":{\"colorbar\":{\"outlinewidth\":0,\"ticks\":\"\"}},\"marker\":{\"colorbar\":{\"outlinewidth\":0,\"ticks\":\"\"}}}],\"scattermapbox\":[{\"type\":\"scattermapbox\",\"marker\":{\"colorbar\":{\"outlinewidth\":0,\"ticks\":\"\"}}}],\"scatterternary\":[{\"type\":\"scatterternary\",\"marker\":{\"colorbar\":{\"outlinewidth\":0,\"ticks\":\"\"}}}],\"scattercarpet\":[{\"type\":\"scattercarpet\",\"marker\":{\"colorbar\":{\"outlinewidth\":0,\"ticks\":\"\"}}}],\"carpet\":[{\"aaxis\":{\"endlinecolor\":\"#2a3f5f\",\"gridcolor\":\"white\",\"linecolor\":\"white\",\"minorgridcolor\":\"white\",\"startlinecolor\":\"#2a3f5f\"},\"baxis\":{\"endlinecolor\":\"#2a3f5f\",\"gridcolor\":\"white\",\"linecolor\":\"white\",\"minorgridcolor\":\"white\",\"startlinecolor\":\"#2a3f5f\"},\"type\":\"carpet\"}],\"table\":[{\"cells\":{\"fill\":{\"color\":\"#EBF0F8\"},\"line\":{\"color\":\"white\"}},\"header\":{\"fill\":{\"color\":\"#C8D4E3\"},\"line\":{\"color\":\"white\"}},\"type\":\"table\"}],\"barpolar\":[{\"marker\":{\"line\":{\"color\":\"#E5ECF6\",\"width\":0.5},\"pattern\":{\"fillmode\":\"overlay\",\"size\":10,\"solidity\":0.2}},\"type\":\"barpolar\"}],\"pie\":[{\"automargin\":true,\"type\":\"pie\"}]},\"layout\":{\"autotypenumbers\":\"strict\",\"colorway\":[\"#636efa\",\"#EF553B\",\"#00cc96\",\"#ab63fa\",\"#FFA15A\",\"#19d3f3\",\"#FF6692\",\"#B6E880\",\"#FF97FF\",\"#FECB52\"],\"font\":{\"color\":\"#2a3f5f\"},\"hovermode\":\"closest\",\"hoverlabel\":{\"align\":\"left\"},\"paper_bgcolor\":\"white\",\"plot_bgcolor\":\"#E5ECF6\",\"polar\":{\"bgcolor\":\"#E5ECF6\",\"angularaxis\":{\"gridcolor\":\"white\",\"linecolor\":\"white\",\"ticks\":\"\"},\"radialaxis\":{\"gridcolor\":\"white\",\"linecolor\":\"white\",\"ticks\":\"\"}},\"ternary\":{\"bgcolor\":\"#E5ECF6\",\"aaxis\":{\"gridcolor\":\"white\",\"linecolor\":\"white\",\"ticks\":\"\"},\"baxis\":{\"gridcolor\":\"white\",\"linecolor\":\"white\",\"ticks\":\"\"},\"caxis\":{\"gridcolor\":\"white\",\"linecolor\":\"white\",\"ticks\":\"\"}},\"coloraxis\":{\"colorbar\":{\"outlinewidth\":0,\"ticks\":\"\"}},\"colorscale\":{\"sequential\":[[0.0,\"#0d0887\"],[0.1111111111111111,\"#46039f\"],[0.2222222222222222,\"#7201a8\"],[0.3333333333333333,\"#9c179e\"],[0.4444444444444444,\"#bd3786\"],[0.5555555555555556,\"#d8576b\"],[0.6666666666666666,\"#ed7953\"],[0.7777777777777778,\"#fb9f3a\"],[0.8888888888888888,\"#fdca26\"],[1.0,\"#f0f921\"]],\"sequentialminus\":[[0.0,\"#0d0887\"],[0.1111111111111111,\"#46039f\"],[0.2222222222222222,\"#7201a8\"],[0.3333333333333333,\"#9c179e\"],[0.4444444444444444,\"#bd3786\"],[0.5555555555555556,\"#d8576b\"],[0.6666666666666666,\"#ed7953\"],[0.7777777777777778,\"#fb9f3a\"],[0.8888888888888888,\"#fdca26\"],[1.0,\"#f0f921\"]],\"diverging\":[[0,\"#8e0152\"],[0.1,\"#c51b7d\"],[0.2,\"#de77ae\"],[0.3,\"#f1b6da\"],[0.4,\"#fde0ef\"],[0.5,\"#f7f7f7\"],[0.6,\"#e6f5d0\"],[0.7,\"#b8e186\"],[0.8,\"#7fbc41\"],[0.9,\"#4d9221\"],[1,\"#276419\"]]},\"xaxis\":{\"gridcolor\":\"white\",\"linecolor\":\"white\",\"ticks\":\"\",\"title\":{\"standoff\":15},\"zerolinecolor\":\"white\",\"automargin\":true,\"zerolinewidth\":2},\"yaxis\":{\"gridcolor\":\"white\",\"linecolor\":\"white\",\"ticks\":\"\",\"title\":{\"standoff\":15},\"zerolinecolor\":\"white\",\"automargin\":true,\"zerolinewidth\":2},\"scene\":{\"xaxis\":{\"backgroundcolor\":\"#E5ECF6\",\"gridcolor\":\"white\",\"linecolor\":\"white\",\"showbackground\":true,\"ticks\":\"\",\"zerolinecolor\":\"white\",\"gridwidth\":2},\"yaxis\":{\"backgroundcolor\":\"#E5ECF6\",\"gridcolor\":\"white\",\"linecolor\":\"white\",\"showbackground\":true,\"ticks\":\"\",\"zerolinecolor\":\"white\",\"gridwidth\":2},\"zaxis\":{\"backgroundcolor\":\"#E5ECF6\",\"gridcolor\":\"white\",\"linecolor\":\"white\",\"showbackground\":true,\"ticks\":\"\",\"zerolinecolor\":\"white\",\"gridwidth\":2}},\"shapedefaults\":{\"line\":{\"color\":\"#2a3f5f\"}},\"annotationdefaults\":{\"arrowcolor\":\"#2a3f5f\",\"arrowhead\":0,\"arrowwidth\":1},\"geo\":{\"bgcolor\":\"white\",\"landcolor\":\"#E5ECF6\",\"subunitcolor\":\"white\",\"showland\":true,\"showlakes\":true,\"lakecolor\":\"white\"},\"title\":{\"x\":0.05},\"mapbox\":{\"style\":\"light\"}}}},                        {\"responsive\": true}                    ).then(function(){\n",
              "                            \n",
              "var gd = document.getElementById('13c7795e-1fb7-4168-89a4-061edd328eaa');\n",
              "var x = new MutationObserver(function (mutations, observer) {{\n",
              "        var display = window.getComputedStyle(gd).display;\n",
              "        if (!display || display === 'none') {{\n",
              "            console.log([gd, 'removed!']);\n",
              "            Plotly.purge(gd);\n",
              "            observer.disconnect();\n",
              "        }}\n",
              "}});\n",
              "\n",
              "// Listen for the removal of the full notebook cells\n",
              "var notebookContainer = gd.closest('#notebook-container');\n",
              "if (notebookContainer) {{\n",
              "    x.observe(notebookContainer, {childList: true});\n",
              "}}\n",
              "\n",
              "// Listen for the clearing of the current output cell\n",
              "var outputEl = gd.closest('.output');\n",
              "if (outputEl) {{\n",
              "    x.observe(outputEl, {childList: true});\n",
              "}}\n",
              "\n",
              "                        })                };                            </script>        </div>\n",
              "</body>\n",
              "</html>"
            ]
          },
          "metadata": {},
          "output_type": "display_data"
        }
      ],
      "source": [
        "trace1 = go.Scatter(\n",
        "    x = df['Date'],\n",
        "    y = df['Close'],\n",
        "    mode = 'lines',\n",
        "    name = 'Data'\n",
        ")\n",
        "layout = go.Layout(\n",
        "    title = \"Google Stock\",\n",
        "    xaxis = {'title':\"Date\"},\n",
        "    yaxis = {'title':\"Close\"}\n",
        ")\n",
        "fig = go.Figure(data = [trace1],layout = layout)\n",
        "fig.show()"
      ]
    },
    {
      "cell_type": "code",
      "execution_count": 8,
      "metadata": {
        "id": "GskcCQpJbA5O"
      },
      "outputs": [],
      "source": [
        "close_data = df['Close'].values"
      ]
    },
    {
      "cell_type": "code",
      "execution_count": 9,
      "metadata": {
        "colab": {
          "base_uri": "https://localhost:8080/"
        },
        "id": "kzqIQVkpcLxV",
        "outputId": "340ee7a5-6bf2-41ef-c649-0045fff6c4dc"
      },
      "outputs": [
        {
          "data": {
            "text/plain": [
              "array([118.139999, 117.5     , 120.650002, 119.82    , 122.650002,\n",
              "       122.879997, 122.510002, 120.32    , 120.860001, 118.120003,\n",
              "       115.07    , 114.769997, 114.699997, 117.699997, 111.300003,\n",
              "       110.339996, 109.910004, 109.150002, 110.550003, 108.68    ,\n",
              "       107.480003, 110.480003, 109.419998, 111.779999, 111.870003,\n",
              "       105.309998, 105.870003, 103.900002, 103.629997, 103.849998,\n",
              "       101.830002, 100.010002, 100.57    ,  99.169998,  98.809998,\n",
              "        98.089996, 100.739998,  98.089996,  96.150002,  99.300003,\n",
              "       102.410004, 102.220001, 102.239998,  99.57    ,  98.709999,\n",
              "        98.050003,  98.300003,  99.709999,  97.18    , 100.779999,\n",
              "       101.389999, 100.290001, 100.529999, 101.480003, 102.970001,\n",
              "       104.93    ,  94.82    ,  92.599998,  96.580002,  94.660004,\n",
              "        90.5     ,  87.07    ,  83.489998,  86.699997,  88.650002,\n",
              "        88.910004,  87.400002,  94.169998,  96.730003,  96.029999,\n",
              "        98.720001,  98.989998,  98.5     ,  97.800003,  95.830002,\n",
              "        97.330002,  98.82    ,  97.599998,  96.25    ,  95.440002,\n",
              "       101.449997, 101.279999, 100.830002,  99.870003,  97.309998,\n",
              "        95.150002,  93.949997,  93.07    ,  93.559998,  95.849998,\n",
              "        95.309998,  91.199997,  90.860001,  89.150002,  89.629997,\n",
              "        90.25    ,  88.260002,  89.809998,  87.93    ,  86.459999,\n",
              "        88.949997,  88.730003,  89.699997,  88.709999,  86.769997,\n",
              "        88.160004,  88.800003,  89.239998,  92.260002,  91.910004,\n",
              "        92.800003,  92.160004,  91.779999,  93.910004,  99.279999,\n",
              "       101.209999,  99.209999,  96.730003,  99.160004, 100.709999,\n",
              "        97.949997,  99.870003, 101.43    , 108.800003, 105.220001,\n",
              "       103.470001, 108.040001, 100.      ,  95.459999,  94.860001,\n",
              "        95.      ,  94.949997,  97.099998,  95.779999,  94.589996,\n",
              "        92.050003,  91.800003,  91.07    ,  89.349998,  90.099998,\n",
              "        90.300003,  90.510002,  92.309998,  94.019997,  95.580002,\n",
              "        94.169998,  94.650002,  92.660004,  91.010002,  91.660004,\n",
              "        94.25    ,  96.550003, 101.07    , 102.459999, 101.93    ,\n",
              "       105.839996, 104.220001, 106.260002, 106.059998, 103.059998,\n",
              "       101.360001, 101.900002, 101.32    , 104.      , 104.910004,\n",
              "       105.120003, 104.949997, 108.900002, 106.949997, 106.120003,\n",
              "       105.220001, 108.190002, 109.459999, 106.419998, 105.120003,\n",
              "       105.019997, 105.900002, 105.910004, 106.779999, 104.610001,\n",
              "       104.449997, 108.370003, 108.220001, 107.709999, 105.980003,\n",
              "       106.120003, 105.209999, 106.214996, 108.239998, 107.940002,\n",
              "       112.279999, 116.900002, 117.919998, 116.959999, 120.089996,\n",
              "       121.480003, 123.519997, 123.25    , 125.870003, 123.290001,\n",
              "       121.639999, 124.349998, 125.43    , 124.639999, 123.370003,\n",
              "       124.370003, 125.230003, 126.629997, 127.910004, 122.940002,\n",
              "       122.669998, 122.870003, 124.349998, 124.43    , 124.379997,\n",
              "       125.790001, 124.059998, 123.849998, 121.260002, 123.870003,\n",
              "       123.019997, 119.089996, 119.010002, 121.080002, 120.010002,\n",
              "       120.970001, 120.559998, 122.629997, 120.93    , 120.139999,\n",
              "       116.870003, 117.709999, 119.620003, 124.830002, 125.699997,\n",
              "       125.059998, 124.080002, 122.779999, 119.529999, 120.309998,\n",
              "       121.879997, 122.790001, 129.660004, 129.869995, 133.009995,\n",
              "       133.110001, 131.889999, 128.639999, 128.770004, 128.539993])"
            ]
          },
          "execution_count": 9,
          "metadata": {},
          "output_type": "execute_result"
        }
      ],
      "source": [
        "close_data"
      ]
    },
    {
      "cell_type": "code",
      "execution_count": 11,
      "metadata": {
        "id": "4-EIjm8kcNCi"
      },
      "outputs": [],
      "source": [
        "#reshape the array into a two-dimensional array with one column\n",
        "close_data = close_data.reshape(-1,1)"
      ]
    },
    {
      "cell_type": "code",
      "execution_count": 12,
      "metadata": {
        "colab": {
          "base_uri": "https://localhost:8080/"
        },
        "id": "Y_m5hw6ndam9",
        "outputId": "caadd3da-6be3-457c-be33-384aad458f82"
      },
      "outputs": [
        {
          "data": {
            "text/plain": [
              "array([[118.139999],\n",
              "       [117.5     ],\n",
              "       [120.650002],\n",
              "       [119.82    ],\n",
              "       [122.650002],\n",
              "       [122.879997],\n",
              "       [122.510002],\n",
              "       [120.32    ],\n",
              "       [120.860001],\n",
              "       [118.120003],\n",
              "       [115.07    ],\n",
              "       [114.769997],\n",
              "       [114.699997],\n",
              "       [117.699997],\n",
              "       [111.300003],\n",
              "       [110.339996],\n",
              "       [109.910004],\n",
              "       [109.150002],\n",
              "       [110.550003],\n",
              "       [108.68    ],\n",
              "       [107.480003],\n",
              "       [110.480003],\n",
              "       [109.419998],\n",
              "       [111.779999],\n",
              "       [111.870003],\n",
              "       [105.309998],\n",
              "       [105.870003],\n",
              "       [103.900002],\n",
              "       [103.629997],\n",
              "       [103.849998],\n",
              "       [101.830002],\n",
              "       [100.010002],\n",
              "       [100.57    ],\n",
              "       [ 99.169998],\n",
              "       [ 98.809998],\n",
              "       [ 98.089996],\n",
              "       [100.739998],\n",
              "       [ 98.089996],\n",
              "       [ 96.150002],\n",
              "       [ 99.300003],\n",
              "       [102.410004],\n",
              "       [102.220001],\n",
              "       [102.239998],\n",
              "       [ 99.57    ],\n",
              "       [ 98.709999],\n",
              "       [ 98.050003],\n",
              "       [ 98.300003],\n",
              "       [ 99.709999],\n",
              "       [ 97.18    ],\n",
              "       [100.779999],\n",
              "       [101.389999],\n",
              "       [100.290001],\n",
              "       [100.529999],\n",
              "       [101.480003],\n",
              "       [102.970001],\n",
              "       [104.93    ],\n",
              "       [ 94.82    ],\n",
              "       [ 92.599998],\n",
              "       [ 96.580002],\n",
              "       [ 94.660004],\n",
              "       [ 90.5     ],\n",
              "       [ 87.07    ],\n",
              "       [ 83.489998],\n",
              "       [ 86.699997],\n",
              "       [ 88.650002],\n",
              "       [ 88.910004],\n",
              "       [ 87.400002],\n",
              "       [ 94.169998],\n",
              "       [ 96.730003],\n",
              "       [ 96.029999],\n",
              "       [ 98.720001],\n",
              "       [ 98.989998],\n",
              "       [ 98.5     ],\n",
              "       [ 97.800003],\n",
              "       [ 95.830002],\n",
              "       [ 97.330002],\n",
              "       [ 98.82    ],\n",
              "       [ 97.599998],\n",
              "       [ 96.25    ],\n",
              "       [ 95.440002],\n",
              "       [101.449997],\n",
              "       [101.279999],\n",
              "       [100.830002],\n",
              "       [ 99.870003],\n",
              "       [ 97.309998],\n",
              "       [ 95.150002],\n",
              "       [ 93.949997],\n",
              "       [ 93.07    ],\n",
              "       [ 93.559998],\n",
              "       [ 95.849998],\n",
              "       [ 95.309998],\n",
              "       [ 91.199997],\n",
              "       [ 90.860001],\n",
              "       [ 89.150002],\n",
              "       [ 89.629997],\n",
              "       [ 90.25    ],\n",
              "       [ 88.260002],\n",
              "       [ 89.809998],\n",
              "       [ 87.93    ],\n",
              "       [ 86.459999],\n",
              "       [ 88.949997],\n",
              "       [ 88.730003],\n",
              "       [ 89.699997],\n",
              "       [ 88.709999],\n",
              "       [ 86.769997],\n",
              "       [ 88.160004],\n",
              "       [ 88.800003],\n",
              "       [ 89.239998],\n",
              "       [ 92.260002],\n",
              "       [ 91.910004],\n",
              "       [ 92.800003],\n",
              "       [ 92.160004],\n",
              "       [ 91.779999],\n",
              "       [ 93.910004],\n",
              "       [ 99.279999],\n",
              "       [101.209999],\n",
              "       [ 99.209999],\n",
              "       [ 96.730003],\n",
              "       [ 99.160004],\n",
              "       [100.709999],\n",
              "       [ 97.949997],\n",
              "       [ 99.870003],\n",
              "       [101.43    ],\n",
              "       [108.800003],\n",
              "       [105.220001],\n",
              "       [103.470001],\n",
              "       [108.040001],\n",
              "       [100.      ],\n",
              "       [ 95.459999],\n",
              "       [ 94.860001],\n",
              "       [ 95.      ],\n",
              "       [ 94.949997],\n",
              "       [ 97.099998],\n",
              "       [ 95.779999],\n",
              "       [ 94.589996],\n",
              "       [ 92.050003],\n",
              "       [ 91.800003],\n",
              "       [ 91.07    ],\n",
              "       [ 89.349998],\n",
              "       [ 90.099998],\n",
              "       [ 90.300003],\n",
              "       [ 90.510002],\n",
              "       [ 92.309998],\n",
              "       [ 94.019997],\n",
              "       [ 95.580002],\n",
              "       [ 94.169998],\n",
              "       [ 94.650002],\n",
              "       [ 92.660004],\n",
              "       [ 91.010002],\n",
              "       [ 91.660004],\n",
              "       [ 94.25    ],\n",
              "       [ 96.550003],\n",
              "       [101.07    ],\n",
              "       [102.459999],\n",
              "       [101.93    ],\n",
              "       [105.839996],\n",
              "       [104.220001],\n",
              "       [106.260002],\n",
              "       [106.059998],\n",
              "       [103.059998],\n",
              "       [101.360001],\n",
              "       [101.900002],\n",
              "       [101.32    ],\n",
              "       [104.      ],\n",
              "       [104.910004],\n",
              "       [105.120003],\n",
              "       [104.949997],\n",
              "       [108.900002],\n",
              "       [106.949997],\n",
              "       [106.120003],\n",
              "       [105.220001],\n",
              "       [108.190002],\n",
              "       [109.459999],\n",
              "       [106.419998],\n",
              "       [105.120003],\n",
              "       [105.019997],\n",
              "       [105.900002],\n",
              "       [105.910004],\n",
              "       [106.779999],\n",
              "       [104.610001],\n",
              "       [104.449997],\n",
              "       [108.370003],\n",
              "       [108.220001],\n",
              "       [107.709999],\n",
              "       [105.980003],\n",
              "       [106.120003],\n",
              "       [105.209999],\n",
              "       [106.214996],\n",
              "       [108.239998],\n",
              "       [107.940002],\n",
              "       [112.279999],\n",
              "       [116.900002],\n",
              "       [117.919998],\n",
              "       [116.959999],\n",
              "       [120.089996],\n",
              "       [121.480003],\n",
              "       [123.519997],\n",
              "       [123.25    ],\n",
              "       [125.870003],\n",
              "       [123.290001],\n",
              "       [121.639999],\n",
              "       [124.349998],\n",
              "       [125.43    ],\n",
              "       [124.639999],\n",
              "       [123.370003],\n",
              "       [124.370003],\n",
              "       [125.230003],\n",
              "       [126.629997],\n",
              "       [127.910004],\n",
              "       [122.940002],\n",
              "       [122.669998],\n",
              "       [122.870003],\n",
              "       [124.349998],\n",
              "       [124.43    ],\n",
              "       [124.379997],\n",
              "       [125.790001],\n",
              "       [124.059998],\n",
              "       [123.849998],\n",
              "       [121.260002],\n",
              "       [123.870003],\n",
              "       [123.019997],\n",
              "       [119.089996],\n",
              "       [119.010002],\n",
              "       [121.080002],\n",
              "       [120.010002],\n",
              "       [120.970001],\n",
              "       [120.559998],\n",
              "       [122.629997],\n",
              "       [120.93    ],\n",
              "       [120.139999],\n",
              "       [116.870003],\n",
              "       [117.709999],\n",
              "       [119.620003],\n",
              "       [124.830002],\n",
              "       [125.699997],\n",
              "       [125.059998],\n",
              "       [124.080002],\n",
              "       [122.779999],\n",
              "       [119.529999],\n",
              "       [120.309998],\n",
              "       [121.879997],\n",
              "       [122.790001],\n",
              "       [129.660004],\n",
              "       [129.869995],\n",
              "       [133.009995],\n",
              "       [133.110001],\n",
              "       [131.889999],\n",
              "       [128.639999],\n",
              "       [128.770004],\n",
              "       [128.539993]])"
            ]
          },
          "execution_count": 12,
          "metadata": {},
          "output_type": "execute_result"
        }
      ],
      "source": [
        "close_data"
      ]
    },
    {
      "cell_type": "code",
      "execution_count": 13,
      "metadata": {
        "id": "72FYBrHldcJM"
      },
      "outputs": [],
      "source": [
        "#80% of your data for training\n",
        "split_percentage = 0.80\n",
        "\n",
        "split = int(split_percentage * len(close_data))"
      ]
    },
    {
      "cell_type": "code",
      "execution_count": 14,
      "metadata": {
        "colab": {
          "base_uri": "https://localhost:8080/"
        },
        "id": "7ePPZRwreJ86",
        "outputId": "5722332b-4b00-41e4-ebc4-4c94cae110e0"
      },
      "outputs": [
        {
          "data": {
            "text/plain": [
              "200"
            ]
          },
          "execution_count": 14,
          "metadata": {},
          "output_type": "execute_result"
        }
      ],
      "source": [
        "split"
      ]
    },
    {
      "cell_type": "code",
      "execution_count": 15,
      "metadata": {
        "id": "Vb3duSSJeLCc"
      },
      "outputs": [],
      "source": [
        "close_train = close_data[:split]\n",
        "close_test = close_data[split:]"
      ]
    },
    {
      "cell_type": "code",
      "execution_count": 16,
      "metadata": {
        "id": "xvxAAhlGepFz"
      },
      "outputs": [],
      "source": [
        "date_train = df['Date'][:split]\n",
        "date_test = df['Date'][split:]"
      ]
    },
    {
      "cell_type": "code",
      "execution_count": 17,
      "metadata": {
        "colab": {
          "base_uri": "https://localhost:8080/"
        },
        "id": "t1NQPqfaflbf",
        "outputId": "a72030a5-8b3e-4b04-ad8a-003c3a299834"
      },
      "outputs": [
        {
          "name": "stdout",
          "output_type": "stream",
          "text": [
            "200\n"
          ]
        }
      ],
      "source": [
        "print(len(close_train))"
      ]
    },
    {
      "cell_type": "code",
      "execution_count": 18,
      "metadata": {
        "colab": {
          "base_uri": "https://localhost:8080/"
        },
        "id": "0CDb2w42fwNH",
        "outputId": "941ff02a-bd26-42ea-a9b2-f2f5c2666c70"
      },
      "outputs": [
        {
          "name": "stdout",
          "output_type": "stream",
          "text": [
            "50\n"
          ]
        }
      ],
      "source": [
        "print(len(close_test))"
      ]
    },
    {
      "cell_type": "code",
      "execution_count": 20,
      "metadata": {
        "id": "R-QwigvvgV20"
      },
      "outputs": [],
      "source": [
        "look_back = 15 #number of time steps to look back\n",
        "train_generator = TimeseriesGenerator(close_train,close_train,length = look_back,batch_size = 20)\n",
        "test_generator = TimeseriesGenerator(close_test,close_test,length = look_back,batch_size = 1)"
      ]
    },
    {
      "cell_type": "code",
      "execution_count": 22,
      "metadata": {
        "colab": {
          "base_uri": "https://localhost:8080/"
        },
        "id": "HvYbNGySkLxt",
        "outputId": "7e858da2-470c-4f48-edfd-b950f87de857"
      },
      "outputs": [
        {
          "name": "stderr",
          "output_type": "stream",
          "text": [
            "WARNING:tensorflow:Layer lstm will not use cuDNN kernels since it doesn't meet the criteria. It will use a generic GPU kernel as fallback when running on GPU.\n"
          ]
        }
      ],
      "source": [
        "\n",
        "model = Sequential()\n",
        "\n",
        "model.add(\n",
        "    LSTM(10,activation = 'relu',input_shape =(look_back,1))\n",
        ")\n",
        "model.add(\n",
        "    Dense(1)\n",
        ")"
      ]
    },
    {
      "cell_type": "code",
      "execution_count": 23,
      "metadata": {
        "id": "6Z9U8r8JmBT8"
      },
      "outputs": [],
      "source": [
        "model.compile(optimizer='adam',loss='mse')"
      ]
    },
    {
      "cell_type": "code",
      "execution_count": 24,
      "metadata": {
        "colab": {
          "base_uri": "https://localhost:8080/"
        },
        "id": "PTMhqIdYk3DO",
        "outputId": "91495c14-dcef-46f4-baf6-0ad11657fce9"
      },
      "outputs": [
        {
          "name": "stdout",
          "output_type": "stream",
          "text": [
            "Epoch 1/100\n"
          ]
        },
        {
          "name": "stderr",
          "output_type": "stream",
          "text": [
            "<ipython-input-24-c82160ae5f8c>:1: UserWarning:\n",
            "\n",
            "`Model.fit_generator` is deprecated and will be removed in a future version. Please use `Model.fit`, which supports generators.\n",
            "\n"
          ]
        },
        {
          "name": "stdout",
          "output_type": "stream",
          "text": [
            "10/10 [==============================] - 6s 25ms/step - loss: 11412.4707\n",
            "Epoch 2/100\n",
            "10/10 [==============================] - 0s 27ms/step - loss: 11263.5293\n",
            "Epoch 3/100\n",
            "10/10 [==============================] - 0s 25ms/step - loss: 11048.2441\n",
            "Epoch 4/100\n",
            "10/10 [==============================] - 0s 27ms/step - loss: 10328.6846\n",
            "Epoch 5/100\n",
            "10/10 [==============================] - 0s 27ms/step - loss: 10099.1807\n",
            "Epoch 6/100\n",
            "10/10 [==============================] - 0s 27ms/step - loss: 10067.6836\n",
            "Epoch 7/100\n",
            "10/10 [==============================] - 0s 28ms/step - loss: 10057.2930\n",
            "Epoch 8/100\n",
            "10/10 [==============================] - 0s 25ms/step - loss: 10051.5166\n",
            "Epoch 9/100\n",
            "10/10 [==============================] - 0s 25ms/step - loss: 10047.6182\n",
            "Epoch 10/100\n",
            "10/10 [==============================] - 0s 28ms/step - loss: 10044.0332\n",
            "Epoch 11/100\n",
            "10/10 [==============================] - 0s 23ms/step - loss: 10041.0342\n",
            "Epoch 12/100\n",
            "10/10 [==============================] - 0s 28ms/step - loss: 10037.8984\n",
            "Epoch 13/100\n",
            "10/10 [==============================] - 0s 24ms/step - loss: 10035.1553\n",
            "Epoch 14/100\n",
            "10/10 [==============================] - 0s 28ms/step - loss: 10032.3203\n",
            "Epoch 15/100\n",
            "10/10 [==============================] - 0s 26ms/step - loss: 10028.8877\n",
            "Epoch 16/100\n",
            "10/10 [==============================] - 0s 27ms/step - loss: 10016.9463\n",
            "Epoch 17/100\n",
            "10/10 [==============================] - 0s 26ms/step - loss: 9912.2939\n",
            "Epoch 18/100\n",
            "10/10 [==============================] - 0s 31ms/step - loss: 9024.2051\n",
            "Epoch 19/100\n",
            "10/10 [==============================] - 0s 25ms/step - loss: 6034.2744\n",
            "Epoch 20/100\n",
            "10/10 [==============================] - 0s 28ms/step - loss: 1089.6522\n",
            "Epoch 21/100\n",
            "10/10 [==============================] - 0s 28ms/step - loss: 329.9604\n",
            "Epoch 22/100\n",
            "10/10 [==============================] - 0s 26ms/step - loss: 73.5780\n",
            "Epoch 23/100\n",
            "10/10 [==============================] - 0s 30ms/step - loss: 254.3248\n",
            "Epoch 24/100\n",
            "10/10 [==============================] - 0s 25ms/step - loss: 45.8602\n",
            "Epoch 25/100\n",
            "10/10 [==============================] - 0s 24ms/step - loss: 44.2330\n",
            "Epoch 26/100\n",
            "10/10 [==============================] - 0s 24ms/step - loss: 34.8871\n",
            "Epoch 27/100\n",
            "10/10 [==============================] - 0s 24ms/step - loss: 25.3660\n",
            "Epoch 28/100\n",
            "10/10 [==============================] - 0s 25ms/step - loss: 18.3825\n",
            "Epoch 29/100\n",
            "10/10 [==============================] - 0s 43ms/step - loss: 13.2143\n",
            "Epoch 30/100\n",
            "10/10 [==============================] - 1s 52ms/step - loss: 9.1543\n",
            "Epoch 31/100\n",
            "10/10 [==============================] - 1s 49ms/step - loss: 7.0890\n",
            "Epoch 32/100\n",
            "10/10 [==============================] - 1s 52ms/step - loss: 6.4955\n",
            "Epoch 33/100\n",
            "10/10 [==============================] - 0s 45ms/step - loss: 6.6721\n",
            "Epoch 34/100\n",
            "10/10 [==============================] - 0s 44ms/step - loss: 6.3992\n",
            "Epoch 35/100\n",
            "10/10 [==============================] - 1s 48ms/step - loss: 6.4750\n",
            "Epoch 36/100\n",
            "10/10 [==============================] - 0s 24ms/step - loss: 6.4966\n",
            "Epoch 37/100\n",
            "10/10 [==============================] - 0s 26ms/step - loss: 6.4142\n",
            "Epoch 38/100\n",
            "10/10 [==============================] - 0s 25ms/step - loss: 6.4445\n",
            "Epoch 39/100\n",
            "10/10 [==============================] - 0s 24ms/step - loss: 6.4629\n",
            "Epoch 40/100\n",
            "10/10 [==============================] - 0s 23ms/step - loss: 6.3462\n",
            "Epoch 41/100\n",
            "10/10 [==============================] - 0s 27ms/step - loss: 6.3864\n",
            "Epoch 42/100\n",
            "10/10 [==============================] - 0s 25ms/step - loss: 6.4033\n",
            "Epoch 43/100\n",
            "10/10 [==============================] - 0s 26ms/step - loss: 6.4078\n",
            "Epoch 44/100\n",
            "10/10 [==============================] - 0s 25ms/step - loss: 6.4609\n",
            "Epoch 45/100\n",
            "10/10 [==============================] - 0s 25ms/step - loss: 6.3541\n",
            "Epoch 46/100\n",
            "10/10 [==============================] - 0s 26ms/step - loss: 6.3681\n",
            "Epoch 47/100\n",
            "10/10 [==============================] - 0s 29ms/step - loss: 6.3644\n",
            "Epoch 48/100\n",
            "10/10 [==============================] - 0s 26ms/step - loss: 6.3837\n",
            "Epoch 49/100\n",
            "10/10 [==============================] - 0s 23ms/step - loss: 6.4018\n",
            "Epoch 50/100\n",
            "10/10 [==============================] - 0s 25ms/step - loss: 6.3968\n",
            "Epoch 51/100\n",
            "10/10 [==============================] - 0s 25ms/step - loss: 6.3618\n",
            "Epoch 52/100\n",
            "10/10 [==============================] - 0s 26ms/step - loss: 6.3558\n",
            "Epoch 53/100\n",
            "10/10 [==============================] - 0s 26ms/step - loss: 6.3657\n",
            "Epoch 54/100\n",
            "10/10 [==============================] - 0s 26ms/step - loss: 6.3828\n",
            "Epoch 55/100\n",
            "10/10 [==============================] - 0s 30ms/step - loss: 6.3994\n",
            "Epoch 56/100\n",
            "10/10 [==============================] - 0s 28ms/step - loss: 6.3991\n",
            "Epoch 57/100\n",
            "10/10 [==============================] - 0s 25ms/step - loss: 6.3643\n",
            "Epoch 58/100\n",
            "10/10 [==============================] - 0s 24ms/step - loss: 6.3987\n",
            "Epoch 59/100\n",
            "10/10 [==============================] - 0s 31ms/step - loss: 6.3826\n",
            "Epoch 60/100\n",
            "10/10 [==============================] - 0s 24ms/step - loss: 6.3748\n",
            "Epoch 61/100\n",
            "10/10 [==============================] - 0s 23ms/step - loss: 6.3757\n",
            "Epoch 62/100\n",
            "10/10 [==============================] - 0s 30ms/step - loss: 6.3722\n",
            "Epoch 63/100\n",
            "10/10 [==============================] - 0s 25ms/step - loss: 6.3803\n",
            "Epoch 64/100\n",
            "10/10 [==============================] - 0s 26ms/step - loss: 6.3791\n",
            "Epoch 65/100\n",
            "10/10 [==============================] - 0s 23ms/step - loss: 6.3855\n",
            "Epoch 66/100\n",
            "10/10 [==============================] - 0s 26ms/step - loss: 6.3832\n",
            "Epoch 67/100\n",
            "10/10 [==============================] - 0s 23ms/step - loss: 6.3731\n",
            "Epoch 68/100\n",
            "10/10 [==============================] - 0s 24ms/step - loss: 6.3750\n",
            "Epoch 69/100\n",
            "10/10 [==============================] - 0s 24ms/step - loss: 6.3644\n",
            "Epoch 70/100\n",
            "10/10 [==============================] - 0s 26ms/step - loss: 6.4048\n",
            "Epoch 71/100\n",
            "10/10 [==============================] - 0s 43ms/step - loss: 6.3863\n",
            "Epoch 72/100\n",
            "10/10 [==============================] - 1s 55ms/step - loss: 6.3821\n",
            "Epoch 73/100\n",
            "10/10 [==============================] - 0s 47ms/step - loss: 6.3983\n",
            "Epoch 74/100\n",
            "10/10 [==============================] - 1s 55ms/step - loss: 6.3830\n",
            "Epoch 75/100\n",
            "10/10 [==============================] - 1s 48ms/step - loss: 6.3834\n",
            "Epoch 76/100\n",
            "10/10 [==============================] - 1s 48ms/step - loss: 6.3916\n",
            "Epoch 77/100\n",
            "10/10 [==============================] - 1s 52ms/step - loss: 6.3735\n",
            "Epoch 78/100\n",
            "10/10 [==============================] - 0s 23ms/step - loss: 6.3756\n",
            "Epoch 79/100\n",
            "10/10 [==============================] - 0s 24ms/step - loss: 6.3813\n",
            "Epoch 80/100\n",
            "10/10 [==============================] - 0s 25ms/step - loss: 6.3879\n",
            "Epoch 81/100\n",
            "10/10 [==============================] - 0s 25ms/step - loss: 6.3921\n",
            "Epoch 82/100\n",
            "10/10 [==============================] - 1s 58ms/step - loss: 6.3890\n",
            "Epoch 83/100\n",
            "10/10 [==============================] - 0s 27ms/step - loss: 6.3839\n",
            "Epoch 84/100\n",
            "10/10 [==============================] - 0s 31ms/step - loss: 6.3887\n",
            "Epoch 85/100\n",
            "10/10 [==============================] - 1s 42ms/step - loss: 6.3907\n",
            "Epoch 86/100\n",
            "10/10 [==============================] - 0s 31ms/step - loss: 6.3869\n",
            "Epoch 87/100\n",
            "10/10 [==============================] - 1s 61ms/step - loss: 6.3902\n",
            "Epoch 88/100\n",
            "10/10 [==============================] - 0s 24ms/step - loss: 6.3946\n",
            "Epoch 89/100\n",
            "10/10 [==============================] - 0s 25ms/step - loss: 6.3842\n",
            "Epoch 90/100\n",
            "10/10 [==============================] - 0s 28ms/step - loss: 6.3766\n",
            "Epoch 91/100\n",
            "10/10 [==============================] - 0s 28ms/step - loss: 6.4105\n",
            "Epoch 92/100\n",
            "10/10 [==============================] - 0s 29ms/step - loss: 6.3862\n",
            "Epoch 93/100\n",
            "10/10 [==============================] - 0s 29ms/step - loss: 6.3823\n",
            "Epoch 94/100\n",
            "10/10 [==============================] - 0s 25ms/step - loss: 6.3813\n",
            "Epoch 95/100\n",
            "10/10 [==============================] - 0s 25ms/step - loss: 6.3814\n",
            "Epoch 96/100\n",
            "10/10 [==============================] - 0s 25ms/step - loss: 6.3907\n",
            "Epoch 97/100\n",
            "10/10 [==============================] - 0s 27ms/step - loss: 6.4013\n",
            "Epoch 98/100\n",
            "10/10 [==============================] - 0s 27ms/step - loss: 6.4001\n",
            "Epoch 99/100\n",
            "10/10 [==============================] - 0s 24ms/step - loss: 6.4073\n",
            "Epoch 100/100\n",
            "10/10 [==============================] - 0s 25ms/step - loss: 6.4202\n"
          ]
        },
        {
          "data": {
            "text/plain": [
              "<keras.src.callbacks.History at 0x7b8ea5be7a60>"
            ]
          },
          "execution_count": 24,
          "metadata": {},
          "output_type": "execute_result"
        }
      ],
      "source": [
        "model.fit_generator(train_generator,epochs = 100,verbose=1)"
      ]
    },
    {
      "cell_type": "code",
      "execution_count": 25,
      "metadata": {
        "colab": {
          "base_uri": "https://localhost:8080/"
        },
        "id": "iKRqmAOWlpYF",
        "outputId": "5fc96971-38e9-466b-88e8-e3f826e545dd"
      },
      "outputs": [
        {
          "name": "stderr",
          "output_type": "stream",
          "text": [
            "<ipython-input-25-342c80f366ab>:1: UserWarning:\n",
            "\n",
            "`Model.predict_generator` is deprecated and will be removed in a future version. Please use `Model.predict`, which supports generators.\n",
            "\n"
          ]
        }
      ],
      "source": [
        "prediction = model.predict_generator(test_generator)"
      ]
    },
    {
      "cell_type": "code",
      "execution_count": 26,
      "metadata": {
        "colab": {
          "base_uri": "https://localhost:8080/"
        },
        "id": "7upgrfEUqfZ5",
        "outputId": "6b2edcbd-da18-40aa-f809-327ebc3b0929"
      },
      "outputs": [
        {
          "name": "stderr",
          "output_type": "stream",
          "text": [
            "/usr/local/lib/python3.10/dist-packages/keras/src/engine/training.py:3079: UserWarning:\n",
            "\n",
            "You are saving your model as an HDF5 file via `model.save()`. This file format is considered legacy. We recommend using instead the native Keras format, e.g. `model.save('my_model.keras')`.\n",
            "\n"
          ]
        }
      ],
      "source": [
        "model.save('stock_predictor.h5')"
      ]
    },
    {
      "cell_type": "code",
      "execution_count": 27,
      "metadata": {
        "id": "2G6QmpdynPEc"
      },
      "outputs": [],
      "source": [
        "close_train = close_train.reshape((-1))\n",
        "close_test = close_test.reshape((-1))\n",
        "prediction = prediction.reshape((-1))"
      ]
    },
    {
      "cell_type": "code",
      "execution_count": 28,
      "metadata": {
        "colab": {
          "base_uri": "https://localhost:8080/"
        },
        "id": "JOcCKN9Xor8r",
        "outputId": "eeeced43-89f1-47cb-811a-5abe0a3a77c9"
      },
      "outputs": [
        {
          "data": {
            "text/plain": [
              "array([124.16037 , 125.129524, 124.24587 , 123.94444 , 122.04706 ,\n",
              "       123.31016 , 122.9005  , 120.31565 , 119.56241 , 120.498665,\n",
              "       120.03036 , 120.62143 , 120.44545 , 121.84124 , 121.052536,\n",
              "       120.43216 , 117.99793 , 117.93641 , 118.94493 , 122.74477 ,\n",
              "       124.4466  , 124.69684 , 124.16875 , 123.16822 , 120.70077 ,\n",
              "       120.54055 , 121.31061 , 122.16919 , 127.02527 , 128.59535 ,\n",
              "       131.37045 , 132.24858 , 131.83192 , 129.57059 , 129.04541 ],\n",
              "      dtype=float32)"
            ]
          },
          "execution_count": 28,
          "metadata": {},
          "output_type": "execute_result"
        }
      ],
      "source": [
        "prediction"
      ]
    },
    {
      "cell_type": "code",
      "execution_count": 29,
      "metadata": {
        "colab": {
          "base_uri": "https://localhost:8080/",
          "height": 542
        },
        "id": "Smj4ms4uouWv",
        "outputId": "79509997-7b1a-417b-9f5e-1e85881739b5"
      },
      "outputs": [
        {
          "data": {
            "text/html": [
              "<html>\n",
              "<head><meta charset=\"utf-8\" /></head>\n",
              "<body>\n",
              "    <div>            <script src=\"https://cdnjs.cloudflare.com/ajax/libs/mathjax/2.7.5/MathJax.js?config=TeX-AMS-MML_SVG\"></script><script type=\"text/javascript\">if (window.MathJax && window.MathJax.Hub && window.MathJax.Hub.Config) {window.MathJax.Hub.Config({SVG: {font: \"STIX-Web\"}});}</script>                <script type=\"text/javascript\">window.PlotlyConfig = {MathJaxConfig: 'local'};</script>\n",
              "        <script charset=\"utf-8\" src=\"https://cdn.plot.ly/plotly-2.24.1.min.js\"></script>                <div id=\"fb067053-add1-4e80-a5e8-8e855ce11bdb\" class=\"plotly-graph-div\" style=\"height:525px; width:100%;\"></div>            <script type=\"text/javascript\">                                    window.PLOTLYENV=window.PLOTLYENV || {};                                    if (document.getElementById(\"fb067053-add1-4e80-a5e8-8e855ce11bdb\")) {                    Plotly.newPlot(                        \"fb067053-add1-4e80-a5e8-8e855ce11bdb\",                        [{\"mode\":\"lines\",\"name\":\"Data\",\"x\":[\"2022-08-08T00:00:00\",\"2022-08-09T00:00:00\",\"2022-08-10T00:00:00\",\"2022-08-11T00:00:00\",\"2022-08-12T00:00:00\",\"2022-08-15T00:00:00\",\"2022-08-16T00:00:00\",\"2022-08-17T00:00:00\",\"2022-08-18T00:00:00\",\"2022-08-19T00:00:00\",\"2022-08-22T00:00:00\",\"2022-08-23T00:00:00\",\"2022-08-24T00:00:00\",\"2022-08-25T00:00:00\",\"2022-08-26T00:00:00\",\"2022-08-29T00:00:00\",\"2022-08-30T00:00:00\",\"2022-08-31T00:00:00\",\"2022-09-01T00:00:00\",\"2022-09-02T00:00:00\",\"2022-09-06T00:00:00\",\"2022-09-07T00:00:00\",\"2022-09-08T00:00:00\",\"2022-09-09T00:00:00\",\"2022-09-12T00:00:00\",\"2022-09-13T00:00:00\",\"2022-09-14T00:00:00\",\"2022-09-15T00:00:00\",\"2022-09-16T00:00:00\",\"2022-09-19T00:00:00\",\"2022-09-20T00:00:00\",\"2022-09-21T00:00:00\",\"2022-09-22T00:00:00\",\"2022-09-23T00:00:00\",\"2022-09-26T00:00:00\",\"2022-09-27T00:00:00\",\"2022-09-28T00:00:00\",\"2022-09-29T00:00:00\",\"2022-09-30T00:00:00\",\"2022-10-03T00:00:00\",\"2022-10-04T00:00:00\",\"2022-10-05T00:00:00\",\"2022-10-06T00:00:00\",\"2022-10-07T00:00:00\",\"2022-10-10T00:00:00\",\"2022-10-11T00:00:00\",\"2022-10-12T00:00:00\",\"2022-10-13T00:00:00\",\"2022-10-14T00:00:00\",\"2022-10-17T00:00:00\",\"2022-10-18T00:00:00\",\"2022-10-19T00:00:00\",\"2022-10-20T00:00:00\",\"2022-10-21T00:00:00\",\"2022-10-24T00:00:00\",\"2022-10-25T00:00:00\",\"2022-10-26T00:00:00\",\"2022-10-27T00:00:00\",\"2022-10-28T00:00:00\",\"2022-10-31T00:00:00\",\"2022-11-01T00:00:00\",\"2022-11-02T00:00:00\",\"2022-11-03T00:00:00\",\"2022-11-04T00:00:00\",\"2022-11-07T00:00:00\",\"2022-11-08T00:00:00\",\"2022-11-09T00:00:00\",\"2022-11-10T00:00:00\",\"2022-11-11T00:00:00\",\"2022-11-14T00:00:00\",\"2022-11-15T00:00:00\",\"2022-11-16T00:00:00\",\"2022-11-17T00:00:00\",\"2022-11-18T00:00:00\",\"2022-11-21T00:00:00\",\"2022-11-22T00:00:00\",\"2022-11-23T00:00:00\",\"2022-11-25T00:00:00\",\"2022-11-28T00:00:00\",\"2022-11-29T00:00:00\",\"2022-11-30T00:00:00\",\"2022-12-01T00:00:00\",\"2022-12-02T00:00:00\",\"2022-12-05T00:00:00\",\"2022-12-06T00:00:00\",\"2022-12-07T00:00:00\",\"2022-12-08T00:00:00\",\"2022-12-09T00:00:00\",\"2022-12-12T00:00:00\",\"2022-12-13T00:00:00\",\"2022-12-14T00:00:00\",\"2022-12-15T00:00:00\",\"2022-12-16T00:00:00\",\"2022-12-19T00:00:00\",\"2022-12-20T00:00:00\",\"2022-12-21T00:00:00\",\"2022-12-22T00:00:00\",\"2022-12-23T00:00:00\",\"2022-12-27T00:00:00\",\"2022-12-28T00:00:00\",\"2022-12-29T00:00:00\",\"2022-12-30T00:00:00\",\"2023-01-03T00:00:00\",\"2023-01-04T00:00:00\",\"2023-01-05T00:00:00\",\"2023-01-06T00:00:00\",\"2023-01-09T00:00:00\",\"2023-01-10T00:00:00\",\"2023-01-11T00:00:00\",\"2023-01-12T00:00:00\",\"2023-01-13T00:00:00\",\"2023-01-17T00:00:00\",\"2023-01-18T00:00:00\",\"2023-01-19T00:00:00\",\"2023-01-20T00:00:00\",\"2023-01-23T00:00:00\",\"2023-01-24T00:00:00\",\"2023-01-25T00:00:00\",\"2023-01-26T00:00:00\",\"2023-01-27T00:00:00\",\"2023-01-30T00:00:00\",\"2023-01-31T00:00:00\",\"2023-02-01T00:00:00\",\"2023-02-02T00:00:00\",\"2023-02-03T00:00:00\",\"2023-02-06T00:00:00\",\"2023-02-07T00:00:00\",\"2023-02-08T00:00:00\",\"2023-02-09T00:00:00\",\"2023-02-10T00:00:00\",\"2023-02-13T00:00:00\",\"2023-02-14T00:00:00\",\"2023-02-15T00:00:00\",\"2023-02-16T00:00:00\",\"2023-02-17T00:00:00\",\"2023-02-21T00:00:00\",\"2023-02-22T00:00:00\",\"2023-02-23T00:00:00\",\"2023-02-24T00:00:00\",\"2023-02-27T00:00:00\",\"2023-02-28T00:00:00\",\"2023-03-01T00:00:00\",\"2023-03-02T00:00:00\",\"2023-03-03T00:00:00\",\"2023-03-06T00:00:00\",\"2023-03-07T00:00:00\",\"2023-03-08T00:00:00\",\"2023-03-09T00:00:00\",\"2023-03-10T00:00:00\",\"2023-03-13T00:00:00\",\"2023-03-14T00:00:00\",\"2023-03-15T00:00:00\",\"2023-03-16T00:00:00\",\"2023-03-17T00:00:00\",\"2023-03-20T00:00:00\",\"2023-03-21T00:00:00\",\"2023-03-22T00:00:00\",\"2023-03-23T00:00:00\",\"2023-03-24T00:00:00\",\"2023-03-27T00:00:00\",\"2023-03-28T00:00:00\",\"2023-03-29T00:00:00\",\"2023-03-30T00:00:00\",\"2023-03-31T00:00:00\",\"2023-04-03T00:00:00\",\"2023-04-04T00:00:00\",\"2023-04-05T00:00:00\",\"2023-04-06T00:00:00\",\"2023-04-10T00:00:00\",\"2023-04-11T00:00:00\",\"2023-04-12T00:00:00\",\"2023-04-13T00:00:00\",\"2023-04-14T00:00:00\",\"2023-04-17T00:00:00\",\"2023-04-18T00:00:00\",\"2023-04-19T00:00:00\",\"2023-04-20T00:00:00\",\"2023-04-21T00:00:00\",\"2023-04-24T00:00:00\",\"2023-04-25T00:00:00\",\"2023-04-26T00:00:00\",\"2023-04-27T00:00:00\",\"2023-04-28T00:00:00\",\"2023-05-01T00:00:00\",\"2023-05-02T00:00:00\",\"2023-05-03T00:00:00\",\"2023-05-04T00:00:00\",\"2023-05-05T00:00:00\",\"2023-05-08T00:00:00\",\"2023-05-09T00:00:00\",\"2023-05-10T00:00:00\",\"2023-05-11T00:00:00\",\"2023-05-12T00:00:00\",\"2023-05-15T00:00:00\",\"2023-05-16T00:00:00\",\"2023-05-17T00:00:00\",\"2023-05-18T00:00:00\",\"2023-05-19T00:00:00\",\"2023-05-22T00:00:00\",\"2023-05-23T00:00:00\"],\"y\":[118.139999,117.5,120.650002,119.82,122.650002,122.879997,122.510002,120.32,120.860001,118.120003,115.07,114.769997,114.699997,117.699997,111.300003,110.339996,109.910004,109.150002,110.550003,108.68,107.480003,110.480003,109.419998,111.779999,111.870003,105.309998,105.870003,103.900002,103.629997,103.849998,101.830002,100.010002,100.57,99.169998,98.809998,98.089996,100.739998,98.089996,96.150002,99.300003,102.410004,102.220001,102.239998,99.57,98.709999,98.050003,98.300003,99.709999,97.18,100.779999,101.389999,100.290001,100.529999,101.480003,102.970001,104.93,94.82,92.599998,96.580002,94.660004,90.5,87.07,83.489998,86.699997,88.650002,88.910004,87.400002,94.169998,96.730003,96.029999,98.720001,98.989998,98.5,97.800003,95.830002,97.330002,98.82,97.599998,96.25,95.440002,101.449997,101.279999,100.830002,99.870003,97.309998,95.150002,93.949997,93.07,93.559998,95.849998,95.309998,91.199997,90.860001,89.150002,89.629997,90.25,88.260002,89.809998,87.93,86.459999,88.949997,88.730003,89.699997,88.709999,86.769997,88.160004,88.800003,89.239998,92.260002,91.910004,92.800003,92.160004,91.779999,93.910004,99.279999,101.209999,99.209999,96.730003,99.160004,100.709999,97.949997,99.870003,101.43,108.800003,105.220001,103.470001,108.040001,100.0,95.459999,94.860001,95.0,94.949997,97.099998,95.779999,94.589996,92.050003,91.800003,91.07,89.349998,90.099998,90.300003,90.510002,92.309998,94.019997,95.580002,94.169998,94.650002,92.660004,91.010002,91.660004,94.25,96.550003,101.07,102.459999,101.93,105.839996,104.220001,106.260002,106.059998,103.059998,101.360001,101.900002,101.32,104.0,104.910004,105.120003,104.949997,108.900002,106.949997,106.120003,105.220001,108.190002,109.459999,106.419998,105.120003,105.019997,105.900002,105.910004,106.779999,104.610001,104.449997,108.370003,108.220001,107.709999,105.980003,106.120003,105.209999,106.214996,108.239998,107.940002,112.279999,116.900002,117.919998,116.959999,120.089996,121.480003,123.519997,123.25,125.870003,123.290001],\"type\":\"scatter\"},{\"mode\":\"lines\",\"name\":\"test\",\"x\":[\"2023-05-24T00:00:00\",\"2023-05-25T00:00:00\",\"2023-05-26T00:00:00\",\"2023-05-30T00:00:00\",\"2023-05-31T00:00:00\",\"2023-06-01T00:00:00\",\"2023-06-02T00:00:00\",\"2023-06-05T00:00:00\",\"2023-06-06T00:00:00\",\"2023-06-07T00:00:00\",\"2023-06-08T00:00:00\",\"2023-06-09T00:00:00\",\"2023-06-12T00:00:00\",\"2023-06-13T00:00:00\",\"2023-06-14T00:00:00\",\"2023-06-15T00:00:00\",\"2023-06-16T00:00:00\",\"2023-06-20T00:00:00\",\"2023-06-21T00:00:00\",\"2023-06-22T00:00:00\",\"2023-06-23T00:00:00\",\"2023-06-26T00:00:00\",\"2023-06-27T00:00:00\",\"2023-06-28T00:00:00\",\"2023-06-29T00:00:00\",\"2023-06-30T00:00:00\",\"2023-07-03T00:00:00\",\"2023-07-05T00:00:00\",\"2023-07-06T00:00:00\",\"2023-07-07T00:00:00\",\"2023-07-10T00:00:00\",\"2023-07-11T00:00:00\",\"2023-07-12T00:00:00\",\"2023-07-13T00:00:00\",\"2023-07-14T00:00:00\",\"2023-07-17T00:00:00\",\"2023-07-18T00:00:00\",\"2023-07-19T00:00:00\",\"2023-07-20T00:00:00\",\"2023-07-21T00:00:00\",\"2023-07-24T00:00:00\",\"2023-07-25T00:00:00\",\"2023-07-26T00:00:00\",\"2023-07-27T00:00:00\",\"2023-07-28T00:00:00\",\"2023-07-31T00:00:00\",\"2023-08-01T00:00:00\",\"2023-08-02T00:00:00\",\"2023-08-03T00:00:00\",\"2023-08-04T00:00:00\"],\"y\":[121.639999,124.349998,125.43,124.639999,123.370003,124.370003,125.230003,126.629997,127.910004,122.940002,122.669998,122.870003,124.349998,124.43,124.379997,125.790001,124.059998,123.849998,121.260002,123.870003,123.019997,119.089996,119.010002,121.080002,120.010002,120.970001,120.559998,122.629997,120.93,120.139999,116.870003,117.709999,119.620003,124.830002,125.699997,125.059998,124.080002,122.779999,119.529999,120.309998,121.879997,122.790001,129.660004,129.869995,133.009995,133.110001,131.889999,128.639999,128.770004,128.539993],\"type\":\"scatter\"},{\"mode\":\"lines\",\"name\":\"prediction\",\"x\":[\"2023-05-24T00:00:00\",\"2023-05-25T00:00:00\",\"2023-05-26T00:00:00\",\"2023-05-30T00:00:00\",\"2023-05-31T00:00:00\",\"2023-06-01T00:00:00\",\"2023-06-02T00:00:00\",\"2023-06-05T00:00:00\",\"2023-06-06T00:00:00\",\"2023-06-07T00:00:00\",\"2023-06-08T00:00:00\",\"2023-06-09T00:00:00\",\"2023-06-12T00:00:00\",\"2023-06-13T00:00:00\",\"2023-06-14T00:00:00\",\"2023-06-15T00:00:00\",\"2023-06-16T00:00:00\",\"2023-06-20T00:00:00\",\"2023-06-21T00:00:00\",\"2023-06-22T00:00:00\",\"2023-06-23T00:00:00\",\"2023-06-26T00:00:00\",\"2023-06-27T00:00:00\",\"2023-06-28T00:00:00\",\"2023-06-29T00:00:00\",\"2023-06-30T00:00:00\",\"2023-07-03T00:00:00\",\"2023-07-05T00:00:00\",\"2023-07-06T00:00:00\",\"2023-07-07T00:00:00\",\"2023-07-10T00:00:00\",\"2023-07-11T00:00:00\",\"2023-07-12T00:00:00\",\"2023-07-13T00:00:00\",\"2023-07-14T00:00:00\",\"2023-07-17T00:00:00\",\"2023-07-18T00:00:00\",\"2023-07-19T00:00:00\",\"2023-07-20T00:00:00\",\"2023-07-21T00:00:00\",\"2023-07-24T00:00:00\",\"2023-07-25T00:00:00\",\"2023-07-26T00:00:00\",\"2023-07-27T00:00:00\",\"2023-07-28T00:00:00\",\"2023-07-31T00:00:00\",\"2023-08-01T00:00:00\",\"2023-08-02T00:00:00\",\"2023-08-03T00:00:00\",\"2023-08-04T00:00:00\"],\"y\":[124.16036987304688,125.12952423095703,124.2458724975586,123.94444274902344,122.04705810546875,123.3101577758789,122.90049743652344,120.3156509399414,119.56240844726562,120.49866485595703,120.03035736083984,120.62142944335938,120.44544982910156,121.84123992919922,121.05253601074219,120.43215942382812,117.99793243408203,117.93640899658203,118.94493103027344,122.74476623535156,124.44660186767578,124.69683837890625,124.16874694824219,123.16822052001953,120.70076751708984,120.5405502319336,121.31060791015625,122.169189453125,127.0252685546875,128.59535217285156,131.37045288085938,132.2485809326172,131.83192443847656,129.57058715820312,129.04541015625],\"type\":\"scatter\"}],                        {\"title\":{\"text\":\"Google Stock Prediction\"},\"xaxis\":{\"title\":{\"text\":\"Date\"}},\"yaxis\":{\"title\":{\"text\":\"Close\"}},\"template\":{\"data\":{\"histogram2dcontour\":[{\"type\":\"histogram2dcontour\",\"colorbar\":{\"outlinewidth\":0,\"ticks\":\"\"},\"colorscale\":[[0.0,\"#0d0887\"],[0.1111111111111111,\"#46039f\"],[0.2222222222222222,\"#7201a8\"],[0.3333333333333333,\"#9c179e\"],[0.4444444444444444,\"#bd3786\"],[0.5555555555555556,\"#d8576b\"],[0.6666666666666666,\"#ed7953\"],[0.7777777777777778,\"#fb9f3a\"],[0.8888888888888888,\"#fdca26\"],[1.0,\"#f0f921\"]]}],\"choropleth\":[{\"type\":\"choropleth\",\"colorbar\":{\"outlinewidth\":0,\"ticks\":\"\"}}],\"histogram2d\":[{\"type\":\"histogram2d\",\"colorbar\":{\"outlinewidth\":0,\"ticks\":\"\"},\"colorscale\":[[0.0,\"#0d0887\"],[0.1111111111111111,\"#46039f\"],[0.2222222222222222,\"#7201a8\"],[0.3333333333333333,\"#9c179e\"],[0.4444444444444444,\"#bd3786\"],[0.5555555555555556,\"#d8576b\"],[0.6666666666666666,\"#ed7953\"],[0.7777777777777778,\"#fb9f3a\"],[0.8888888888888888,\"#fdca26\"],[1.0,\"#f0f921\"]]}],\"heatmap\":[{\"type\":\"heatmap\",\"colorbar\":{\"outlinewidth\":0,\"ticks\":\"\"},\"colorscale\":[[0.0,\"#0d0887\"],[0.1111111111111111,\"#46039f\"],[0.2222222222222222,\"#7201a8\"],[0.3333333333333333,\"#9c179e\"],[0.4444444444444444,\"#bd3786\"],[0.5555555555555556,\"#d8576b\"],[0.6666666666666666,\"#ed7953\"],[0.7777777777777778,\"#fb9f3a\"],[0.8888888888888888,\"#fdca26\"],[1.0,\"#f0f921\"]]}],\"heatmapgl\":[{\"type\":\"heatmapgl\",\"colorbar\":{\"outlinewidth\":0,\"ticks\":\"\"},\"colorscale\":[[0.0,\"#0d0887\"],[0.1111111111111111,\"#46039f\"],[0.2222222222222222,\"#7201a8\"],[0.3333333333333333,\"#9c179e\"],[0.4444444444444444,\"#bd3786\"],[0.5555555555555556,\"#d8576b\"],[0.6666666666666666,\"#ed7953\"],[0.7777777777777778,\"#fb9f3a\"],[0.8888888888888888,\"#fdca26\"],[1.0,\"#f0f921\"]]}],\"contourcarpet\":[{\"type\":\"contourcarpet\",\"colorbar\":{\"outlinewidth\":0,\"ticks\":\"\"}}],\"contour\":[{\"type\":\"contour\",\"colorbar\":{\"outlinewidth\":0,\"ticks\":\"\"},\"colorscale\":[[0.0,\"#0d0887\"],[0.1111111111111111,\"#46039f\"],[0.2222222222222222,\"#7201a8\"],[0.3333333333333333,\"#9c179e\"],[0.4444444444444444,\"#bd3786\"],[0.5555555555555556,\"#d8576b\"],[0.6666666666666666,\"#ed7953\"],[0.7777777777777778,\"#fb9f3a\"],[0.8888888888888888,\"#fdca26\"],[1.0,\"#f0f921\"]]}],\"surface\":[{\"type\":\"surface\",\"colorbar\":{\"outlinewidth\":0,\"ticks\":\"\"},\"colorscale\":[[0.0,\"#0d0887\"],[0.1111111111111111,\"#46039f\"],[0.2222222222222222,\"#7201a8\"],[0.3333333333333333,\"#9c179e\"],[0.4444444444444444,\"#bd3786\"],[0.5555555555555556,\"#d8576b\"],[0.6666666666666666,\"#ed7953\"],[0.7777777777777778,\"#fb9f3a\"],[0.8888888888888888,\"#fdca26\"],[1.0,\"#f0f921\"]]}],\"mesh3d\":[{\"type\":\"mesh3d\",\"colorbar\":{\"outlinewidth\":0,\"ticks\":\"\"}}],\"scatter\":[{\"fillpattern\":{\"fillmode\":\"overlay\",\"size\":10,\"solidity\":0.2},\"type\":\"scatter\"}],\"parcoords\":[{\"type\":\"parcoords\",\"line\":{\"colorbar\":{\"outlinewidth\":0,\"ticks\":\"\"}}}],\"scatterpolargl\":[{\"type\":\"scatterpolargl\",\"marker\":{\"colorbar\":{\"outlinewidth\":0,\"ticks\":\"\"}}}],\"bar\":[{\"error_x\":{\"color\":\"#2a3f5f\"},\"error_y\":{\"color\":\"#2a3f5f\"},\"marker\":{\"line\":{\"color\":\"#E5ECF6\",\"width\":0.5},\"pattern\":{\"fillmode\":\"overlay\",\"size\":10,\"solidity\":0.2}},\"type\":\"bar\"}],\"scattergeo\":[{\"type\":\"scattergeo\",\"marker\":{\"colorbar\":{\"outlinewidth\":0,\"ticks\":\"\"}}}],\"scatterpolar\":[{\"type\":\"scatterpolar\",\"marker\":{\"colorbar\":{\"outlinewidth\":0,\"ticks\":\"\"}}}],\"histogram\":[{\"marker\":{\"pattern\":{\"fillmode\":\"overlay\",\"size\":10,\"solidity\":0.2}},\"type\":\"histogram\"}],\"scattergl\":[{\"type\":\"scattergl\",\"marker\":{\"colorbar\":{\"outlinewidth\":0,\"ticks\":\"\"}}}],\"scatter3d\":[{\"type\":\"scatter3d\",\"line\":{\"colorbar\":{\"outlinewidth\":0,\"ticks\":\"\"}},\"marker\":{\"colorbar\":{\"outlinewidth\":0,\"ticks\":\"\"}}}],\"scattermapbox\":[{\"type\":\"scattermapbox\",\"marker\":{\"colorbar\":{\"outlinewidth\":0,\"ticks\":\"\"}}}],\"scatterternary\":[{\"type\":\"scatterternary\",\"marker\":{\"colorbar\":{\"outlinewidth\":0,\"ticks\":\"\"}}}],\"scattercarpet\":[{\"type\":\"scattercarpet\",\"marker\":{\"colorbar\":{\"outlinewidth\":0,\"ticks\":\"\"}}}],\"carpet\":[{\"aaxis\":{\"endlinecolor\":\"#2a3f5f\",\"gridcolor\":\"white\",\"linecolor\":\"white\",\"minorgridcolor\":\"white\",\"startlinecolor\":\"#2a3f5f\"},\"baxis\":{\"endlinecolor\":\"#2a3f5f\",\"gridcolor\":\"white\",\"linecolor\":\"white\",\"minorgridcolor\":\"white\",\"startlinecolor\":\"#2a3f5f\"},\"type\":\"carpet\"}],\"table\":[{\"cells\":{\"fill\":{\"color\":\"#EBF0F8\"},\"line\":{\"color\":\"white\"}},\"header\":{\"fill\":{\"color\":\"#C8D4E3\"},\"line\":{\"color\":\"white\"}},\"type\":\"table\"}],\"barpolar\":[{\"marker\":{\"line\":{\"color\":\"#E5ECF6\",\"width\":0.5},\"pattern\":{\"fillmode\":\"overlay\",\"size\":10,\"solidity\":0.2}},\"type\":\"barpolar\"}],\"pie\":[{\"automargin\":true,\"type\":\"pie\"}]},\"layout\":{\"autotypenumbers\":\"strict\",\"colorway\":[\"#636efa\",\"#EF553B\",\"#00cc96\",\"#ab63fa\",\"#FFA15A\",\"#19d3f3\",\"#FF6692\",\"#B6E880\",\"#FF97FF\",\"#FECB52\"],\"font\":{\"color\":\"#2a3f5f\"},\"hovermode\":\"closest\",\"hoverlabel\":{\"align\":\"left\"},\"paper_bgcolor\":\"white\",\"plot_bgcolor\":\"#E5ECF6\",\"polar\":{\"bgcolor\":\"#E5ECF6\",\"angularaxis\":{\"gridcolor\":\"white\",\"linecolor\":\"white\",\"ticks\":\"\"},\"radialaxis\":{\"gridcolor\":\"white\",\"linecolor\":\"white\",\"ticks\":\"\"}},\"ternary\":{\"bgcolor\":\"#E5ECF6\",\"aaxis\":{\"gridcolor\":\"white\",\"linecolor\":\"white\",\"ticks\":\"\"},\"baxis\":{\"gridcolor\":\"white\",\"linecolor\":\"white\",\"ticks\":\"\"},\"caxis\":{\"gridcolor\":\"white\",\"linecolor\":\"white\",\"ticks\":\"\"}},\"coloraxis\":{\"colorbar\":{\"outlinewidth\":0,\"ticks\":\"\"}},\"colorscale\":{\"sequential\":[[0.0,\"#0d0887\"],[0.1111111111111111,\"#46039f\"],[0.2222222222222222,\"#7201a8\"],[0.3333333333333333,\"#9c179e\"],[0.4444444444444444,\"#bd3786\"],[0.5555555555555556,\"#d8576b\"],[0.6666666666666666,\"#ed7953\"],[0.7777777777777778,\"#fb9f3a\"],[0.8888888888888888,\"#fdca26\"],[1.0,\"#f0f921\"]],\"sequentialminus\":[[0.0,\"#0d0887\"],[0.1111111111111111,\"#46039f\"],[0.2222222222222222,\"#7201a8\"],[0.3333333333333333,\"#9c179e\"],[0.4444444444444444,\"#bd3786\"],[0.5555555555555556,\"#d8576b\"],[0.6666666666666666,\"#ed7953\"],[0.7777777777777778,\"#fb9f3a\"],[0.8888888888888888,\"#fdca26\"],[1.0,\"#f0f921\"]],\"diverging\":[[0,\"#8e0152\"],[0.1,\"#c51b7d\"],[0.2,\"#de77ae\"],[0.3,\"#f1b6da\"],[0.4,\"#fde0ef\"],[0.5,\"#f7f7f7\"],[0.6,\"#e6f5d0\"],[0.7,\"#b8e186\"],[0.8,\"#7fbc41\"],[0.9,\"#4d9221\"],[1,\"#276419\"]]},\"xaxis\":{\"gridcolor\":\"white\",\"linecolor\":\"white\",\"ticks\":\"\",\"title\":{\"standoff\":15},\"zerolinecolor\":\"white\",\"automargin\":true,\"zerolinewidth\":2},\"yaxis\":{\"gridcolor\":\"white\",\"linecolor\":\"white\",\"ticks\":\"\",\"title\":{\"standoff\":15},\"zerolinecolor\":\"white\",\"automargin\":true,\"zerolinewidth\":2},\"scene\":{\"xaxis\":{\"backgroundcolor\":\"#E5ECF6\",\"gridcolor\":\"white\",\"linecolor\":\"white\",\"showbackground\":true,\"ticks\":\"\",\"zerolinecolor\":\"white\",\"gridwidth\":2},\"yaxis\":{\"backgroundcolor\":\"#E5ECF6\",\"gridcolor\":\"white\",\"linecolor\":\"white\",\"showbackground\":true,\"ticks\":\"\",\"zerolinecolor\":\"white\",\"gridwidth\":2},\"zaxis\":{\"backgroundcolor\":\"#E5ECF6\",\"gridcolor\":\"white\",\"linecolor\":\"white\",\"showbackground\":true,\"ticks\":\"\",\"zerolinecolor\":\"white\",\"gridwidth\":2}},\"shapedefaults\":{\"line\":{\"color\":\"#2a3f5f\"}},\"annotationdefaults\":{\"arrowcolor\":\"#2a3f5f\",\"arrowhead\":0,\"arrowwidth\":1},\"geo\":{\"bgcolor\":\"white\",\"landcolor\":\"#E5ECF6\",\"subunitcolor\":\"white\",\"showland\":true,\"showlakes\":true,\"lakecolor\":\"white\"},\"title\":{\"x\":0.05},\"mapbox\":{\"style\":\"light\"}}}},                        {\"responsive\": true}                    ).then(function(){\n",
              "                            \n",
              "var gd = document.getElementById('fb067053-add1-4e80-a5e8-8e855ce11bdb');\n",
              "var x = new MutationObserver(function (mutations, observer) {{\n",
              "        var display = window.getComputedStyle(gd).display;\n",
              "        if (!display || display === 'none') {{\n",
              "            console.log([gd, 'removed!']);\n",
              "            Plotly.purge(gd);\n",
              "            observer.disconnect();\n",
              "        }}\n",
              "}});\n",
              "\n",
              "// Listen for the removal of the full notebook cells\n",
              "var notebookContainer = gd.closest('#notebook-container');\n",
              "if (notebookContainer) {{\n",
              "    x.observe(notebookContainer, {childList: true});\n",
              "}}\n",
              "\n",
              "// Listen for the clearing of the current output cell\n",
              "var outputEl = gd.closest('.output');\n",
              "if (outputEl) {{\n",
              "    x.observe(outputEl, {childList: true});\n",
              "}}\n",
              "\n",
              "                        })                };                            </script>        </div>\n",
              "</body>\n",
              "</html>"
            ]
          },
          "metadata": {},
          "output_type": "display_data"
        }
      ],
      "source": [
        "trace1 = go.Scatter(\n",
        "    x = date_train,\n",
        "    y = close_train,\n",
        "    mode = 'lines',\n",
        "    name = 'Data'\n",
        ")\n",
        "\n",
        "trace2 = go.Scatter(\n",
        "      x = date_test,\n",
        "      y = close_test,\n",
        "      mode = 'lines',\n",
        "      name = 'test'\n",
        "\n",
        ")\n",
        "\n",
        "trace3 = go.Scatter(\n",
        "    x = date_test,\n",
        "    y= prediction,\n",
        "    mode = 'lines',\n",
        "    name = 'prediction'\n",
        "\n",
        ")\n",
        "\n",
        "layout = go.Layout(\n",
        "    title = 'Google Stock Prediction',\n",
        "    xaxis = {'title':'Date'},\n",
        "    yaxis = {'title':\"Close\"}\n",
        "\n",
        ")\n",
        "fig = go.Figure(data = [trace1,trace2,trace3],layout = layout)\n",
        "fig.show()\n"
      ]
    },
    {
      "cell_type": "code",
      "execution_count": null,
      "metadata": {
        "id": "j5djvDm8s4sC"
      },
      "outputs": [],
      "source": []
    }
  ],
  "metadata": {
    "accelerator": "GPU",
    "colab": {
      "gpuType": "T4",
      "provenance": []
    },
    "kernelspec": {
      "display_name": "Python 3",
      "name": "python3"
    },
    "language_info": {
      "name": "python"
    }
  },
  "nbformat": 4,
  "nbformat_minor": 0
}
